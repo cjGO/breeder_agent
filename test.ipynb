{
 "cells": [
  {
   "cell_type": "code",
   "execution_count": 1,
   "metadata": {},
   "outputs": [
    {
     "name": "stderr",
     "output_type": "stream",
     "text": [
      "2024-01-01 00:52:32.956607: W tensorflow/compiler/tf2tensorrt/utils/py_utils.cc:38] TF-TRT Warning: Could not find TensorRT\n"
     ]
    }
   ],
   "source": [
    "%load_ext rpy2.ipython\n",
    "\n",
    "from rpy2.robjects.packages import importr\n",
    "import numpy as np\n",
    "import pandas as pd\n",
    "from chromax import Simulator\n",
    "import tensorflow as tf\n",
    "import numpy as np\n",
    "from tqdm import tqdm\n",
    "import matplotlib.pyplot as plt\n",
    "from matplotlib.animation import ArtistAnimation\n",
    "import matplotlib.gridspec as gridspec\n",
    "from tqdm import tqdm\n",
    "import io\n",
    "from PIL import Image\n",
    "import imageio\n",
    "import os\n",
    "os.environ[\"KERAS_BACKEND\"] = \"jax\"\n",
    "import matplotlib\n",
    "from jax import device_get\n"
   ]
  },
  {
   "cell_type": "code",
   "execution_count": 2,
   "metadata": {},
   "outputs": [],
   "source": [
    "\n",
    "def plot_means_and_variances(dataframes):\n",
    "    # Calculate the mean and variance for each dataframe\n",
    "    mean_values = [df.mean() for df in dataframes]\n",
    "    var_values = [df.var() for df in dataframes]\n",
    "    var_values = np.array(var_values).flatten()\n",
    "    mean_values = np.array(mean_values).flatten()\n",
    "\n",
    "    # Create an array for the x-values\n",
    "    x_values = range(len(dataframes))\n",
    "\n",
    "    # Create the scatter plot with error bars\n",
    "    plt.errorbar(x_values, mean_values, yerr=var_values, fmt='o')\n",
    "\n",
    "    # Display the plot\n",
    "    plt.show()\n",
    "\n",
    "\n",
    "def generate_genetic_map(n_markers, n_chromosomes):\n",
    "  df = pd.DataFrame(generate_marker_effects(n_markers=n_markers), columns=['Yield'])\n",
    "  df['cM'] = np.random.uniform(0, 200, len(df))\n",
    "  df['CHR.PHYS'] = '1A'\n",
    "  df = df.sort_values(by='cM')\n",
    "  df = df[['CHR.PHYS', 'cM', 'Yield']]\n",
    "  # save df as csv under filename\n",
    "  return df\n",
    "\n",
    "def generate_population(n_pop=100, n_markers=500):\n",
    "    \"\"\"\n",
    "    Generate a numpy array of randoms of length 500 with randomized 0, 1, or 2 at each position.\n",
    "    It will generate 100 individuals based on n_pop.\n",
    "\n",
    "    Returns: numpy array of size (n_pop, n_markers)\n",
    "    \"\"\"\n",
    "    shape=(n_pop, n_markers, 2)\n",
    "    # Define the elements to choose from and their associated probabilities\n",
    "    elements = [0, 1, 2]\n",
    "    probabilities = [1/3, 1/3, 1/3]  # equal probabilities for 0, 1, and 2\n",
    "\n",
    "    # Generate the population\n",
    "    population = np.random.choice(elements, size=(n_pop, n_markers), p=probabilities)\n",
    "\n",
    "    return np.random.choice([True, False], size=shape)\n",
    "\n",
    "\n",
    "def generate_marker_effects(n_markers=500, mu=0, sigma=0.1):\n",
    "    \"\"\"\n",
    "    Generate a numpy array of marker effects with a normal distribution.\n",
    "\n",
    "    Parameters:\n",
    "    n_markers (int): Number of markers.\n",
    "    mu (float): Mean of the distribution.\n",
    "    sigma (float): Standard deviation of the distribution.\n",
    "\n",
    "    Returns:\n",
    "    numpy array of marker effects\n",
    "    \"\"\"\n",
    "\n",
    "    # Generate the marker effects\n",
    "    marker_effects = np.random.normal(mu, sigma, n_markers)\n",
    "\n",
    "    return marker_effects\n",
    "\n",
    "\n",
    "def select_random_individuals(arr, num_individuals):\n",
    "    # Get the shape of the array\n",
    "    shape = arr.shape\n",
    "\n",
    "    # Generate random indices along the first axis\n",
    "    idx = np.random.choice(shape[0], size=num_individuals)\n",
    "\n",
    "    # Select the random individuals\n",
    "\n",
    "    return random_individuals\n",
    "\n",
    "def select_mixed(population, random_split=.99):\n",
    "  n_pop = population.shape[0]\n",
    "\n",
    "  n_random = int(n_pop * random_split)\n",
    "  n_select = int(n_pop * (1-random_split))\n",
    "\n",
    "  random_parents = select_random_individuals(Farm.current_population, n_random)\n",
    "  selected_parents = Farm.Simulator.select(Farm.current_population, k = n_select)\n",
    "  combined_arr = np.concatenate((random_parents, selected_parents), axis=0)\n",
    "  return combined_arr\n",
    "\n",
    "def plot_replicate_means_and_variances(replicate_data, start_index=None, end_index=None):\n",
    "    # Create a new figure and axes\n",
    "    fig, ax = plt.subplots()\n",
    "\n",
    "    # If start_index or end_index is not provided, set them to default values\n",
    "    if start_index is None:\n",
    "        start_index = 0\n",
    "    if end_index is None:\n",
    "        end_index = len(replicate_data[0])\n",
    "\n",
    "    # For each list of dataframes in replicate_data\n",
    "    for i, dataframes in enumerate(replicate_data):\n",
    "        # Select the dataframes in the specified range\n",
    "        dataframes = dataframes[start_index:end_index]\n",
    "\n",
    "        # Calculate the mean and variance for each dataframe\n",
    "        mean_values = [df.mean() for df in dataframes]\n",
    "        var_values = [df.var() for df in dataframes]\n",
    "\n",
    "        # Flatten the var_values and mean_values lists to 1D arrays\n",
    "        var_values = np.array(var_values).flatten()\n",
    "        mean_values = np.array(mean_values).flatten()\n",
    "\n",
    "        # Create an array for the x-values\n",
    "        x_values = range(len(dataframes))\n",
    "\n",
    "        # Plot the means with error bars for the variances\n",
    "        ax.errorbar(x_values, mean_values, yerr=var_values, fmt='o', label=f'Replicate {i+1}')\n",
    "\n",
    "    # Add a legend\n",
    "    ax.legend()\n",
    "\n",
    "    # Display the plot\n",
    "    plt.show()\n",
    "\n",
    "\n",
    "def plot_replicate_means(replicate_data):\n",
    "    # Create a new figure and axes\n",
    "    fig, ax = plt.subplots()\n",
    "\n",
    "    # For each list of dataframes in replicate_data\n",
    "    for i, dataframes in enumerate(replicate_data):\n",
    "        # Calculate the mean for each dataframe\n",
    "        mean_values = [df.mean() for df in dataframes]\n",
    "        # Flatten the mean_values list to a 1D array\n",
    "        mean_values = np.array(mean_values).flatten()\n",
    "\n",
    "        # Create an array for the x-values\n",
    "        x_values = range(len(dataframes))\n",
    "\n",
    "        # Plot the means as a line plot\n",
    "        ax.plot(x_values, mean_values, label=f'Replicate {i+1}')\n",
    "\n",
    "    # Add a legend\n",
    "    ax.legend()\n",
    "\n",
    "    # Display the plot\n",
    "    plt.show()\n",
    "\n",
    "def parse_markerEffects(genetic_map, nChr):\n",
    "    # Get the length of the genetic map\n",
    "    length = len(genetic_map)\n",
    "\n",
    "    # Create a new array for storing the chromosome number for each marker\n",
    "    chr = [0] * length\n",
    "\n",
    "    # Calculate the number of markers per chromosome\n",
    "    markers_per_chr = length // nChr\n",
    "\n",
    "    # Iterate over the range of the genetic map length\n",
    "    for i in range(length):\n",
    "        # Calculate the chromosome number and store it in the chr array\n",
    "        chr[i] = i // markers_per_chr + 1\n",
    "\n",
    "    return chr\n",
    "\n",
    "def score_top(scores: pd.DataFrame, column: str, k: int):\n",
    "    # Sort the DataFrame from high to low\n",
    "    sorted_scores = scores.sort_values(by=column, ascending=False)\n",
    "    # Get the top K indexes\n",
    "    top_k_indexes = sorted_scores.head(k).index\n",
    "    return top_k_indexes\n",
    "\n",
    "\n",
    "def score_top_percentile(scores: pd.DataFrame, column: str, percentile_min: float, percentile_max: float, k: int):\n",
    "    # Ensure max percentile is greater than min percentile\n",
    "    assert percentile_max > percentile_min, \"Error: max percentile should be greater than min percentile\"\n",
    "    \n",
    "    # Calculate the percentiles\n",
    "    lower = scores[column].quantile(percentile_min)\n",
    "    upper = scores[column].quantile(percentile_max)\n",
    "    # Filter the DataFrame\n",
    "    filtered_scores = scores[(scores[column] >= lower) & (scores[column] <= upper)]\n",
    "    # Sample k random indexes\n",
    "    sampled_indexes = np.random.choice(filtered_scores.index, k, replace=True)\n",
    "\n",
    "    return sampled_indexes\n",
    "\n",
    "def reshape_pop(maizeHaplo):\n",
    "    reshapeHaplo = maizeHaplo.reshape(int((maizeHaplo.shape[0])/2),2,maizeHaplo.shape[1])\n",
    "    reshapeHaplo = reshapeHaplo.transpose((0,2,1))\n",
    "    return reshapeHaplo\n",
    "\n",
    "def return_genetic_map_df(markerEffects, nChr, geneticMap):\n",
    "    chr = parse_markerEffects(markerEffects, nChr)\n",
    "    chr = [int(x[0]) for x in chr]\n",
    "    trait = markerEffects\n",
    "    pos = geneticMap\n",
    "    # Assuming chr, trait, pos are your arrays\n",
    "    df = pd.DataFrame({'CHR.PHYS': chr, 'Yield': trait, 'cM': pos})\n",
    "    return df\n",
    "\n",
    "import matplotlib.pyplot as plt\n",
    "\n",
    "def plot_histogram(ax, probabilities, label=None, color=None):\n",
    "    ax.hist(probabilities, bins='auto', density=True, alpha=0.5, label=label, color=color)\n",
    "    ax.set_title('Probability Distribution')\n",
    "    ax.set_xlabel('Probability')\n",
    "    ax.set_ylabel('Frequency')\n",
    "\n",
    "def plot_bar(ax, probabilities, label=None, color=None):\n",
    "    indices = range(len(probabilities))\n",
    "    ax.bar(indices, probabilities, alpha=0.5, label=label, color=color)\n",
    "    ax.set_title('Probability per Index')\n",
    "    ax.set_xlabel('Index')\n",
    "    ax.set_ylabel('Probability')\n",
    "\n",
    "def plot_probabilities(probabilities1, probabilities2):\n",
    "    # Create subplots: 1 row, 2 columns\n",
    "    fig, axs = plt.subplots(1, 2, figsize=(10, 5))\n",
    "\n",
    "    # Call the plot functions for the first set of probabilities\n",
    "    plot_histogram(axs[0], probabilities1, label='Probabilities 1', color='blue')\n",
    "    plot_bar(axs[1], probabilities1, label='Probabilities 1', color='blue')\n",
    "\n",
    "    # Call the plot functions for the second set of probabilities\n",
    "    plot_histogram(axs[0], probabilities2, label='Probabilities 2', color='red')\n",
    "    plot_bar(axs[1], probabilities2, label='Probabilities 2', color='red')\n",
    "\n",
    "    # Add legends\n",
    "    axs[0].legend(loc='upper right')\n",
    "    axs[1].legend(loc='upper right')\n",
    "\n",
    "    # Display the plots\n",
    "    plt.tight_layout()  # Adjusts subplot params so that subplots fit in the figure area\n",
    "    plt.show()\n",
    "\n",
    "\n",
    "\n"
   ]
  },
  {
   "cell_type": "code",
   "execution_count": 3,
   "metadata": {},
   "outputs": [
    {
     "data": {
      "text/plain": [
       "In addition: Warning message:\n",
       "In (function (package, help, pos = 2, lib.loc = NULL, character.only = FALSE,  :\n",
       "  libraries ‘/usr/local/lib/R/site-library’, ‘/usr/lib/R/site-library’ contain no packages\n"
      ]
     },
     "metadata": {},
     "output_type": "display_data"
    }
   ],
   "source": [
    "%%R\n",
    "x <- seq(0, 2*pi, length.out=50)"
   ]
  },
  {
   "cell_type": "code",
   "execution_count": 4,
   "metadata": {},
   "outputs": [],
   "source": [
    "%R -o x"
   ]
  },
  {
   "cell_type": "code",
   "execution_count": 5,
   "metadata": {},
   "outputs": [
    {
     "data": {
      "text/plain": [
       "array([0.        , 0.12822827, 0.25645654, 0.38468481, 0.51291309,\n",
       "       0.64114136, 0.76936963, 0.8975979 , 1.02582617, 1.15405444,\n",
       "       1.28228272, 1.41051099, 1.53873926, 1.66696753, 1.7951958 ,\n",
       "       1.92342407, 2.05165235, 2.17988062, 2.30810889, 2.43633716,\n",
       "       2.56456543, 2.6927937 , 2.82102197, 2.94925025, 3.07747852,\n",
       "       3.20570679, 3.33393506, 3.46216333, 3.5903916 , 3.71861988,\n",
       "       3.84684815, 3.97507642, 4.10330469, 4.23153296, 4.35976123,\n",
       "       4.48798951, 4.61621778, 4.74444605, 4.87267432, 5.00090259,\n",
       "       5.12913086, 5.25735913, 5.38558741, 5.51381568, 5.64204395,\n",
       "       5.77027222, 5.89850049, 6.02672876, 6.15495704, 6.28318531])"
      ]
     },
     "execution_count": 5,
     "metadata": {},
     "output_type": "execute_result"
    }
   ],
   "source": [
    "x"
   ]
  },
  {
   "cell_type": "code",
   "execution_count": 6,
   "metadata": {},
   "outputs": [],
   "source": [
    "# %R install.packages(\"AlphaSimR\")"
   ]
  },
  {
   "cell_type": "code",
   "execution_count": 7,
   "metadata": {},
   "outputs": [
    {
     "data": {
      "text/plain": [
       "Loading required package: R6\n"
      ]
     },
     "metadata": {},
     "output_type": "display_data"
    }
   ],
   "source": [
    "%%R\n",
    "library(\"AlphaSimR\")"
   ]
  },
  {
   "cell_type": "code",
   "execution_count": 8,
   "metadata": {},
   "outputs": [],
   "source": [
    "%%R\n",
    "nInd = 50\n",
    "nChr = 2\n",
    "segSites = 20\n",
    "\n",
    "founderGenomes = runMacs(nInd = nInd,\n",
    "                         nChr = nChr,\n",
    "                         segSites = segSites,\n",
    "                         species = \"MAIZE\")\n"
   ]
  },
  {
   "cell_type": "code",
   "execution_count": 9,
   "metadata": {},
   "outputs": [],
   "source": [
    "%%R\n",
    "SP = SimParam$new(founderGenomes)\n",
    "SP$addTraitA(segSites)\n",
    "# SP$setVarE(h2=.02)\n",
    "pop = newPop(founderGenomes, simParam=SP)\n",
    "ans = fastRRBLUP(pop, simParam=SP, useQtl=TRUE, use='gv')\n",
    "ans@gv[[1]]@addEff\n",
    "markerEffects = slot(slot(ans, \"gv\")[[1]], \"addEff\")\n",
    "maizeHaplo = pullSegSiteHaplo(pop)\n",
    "maizeGeno = pullSegSiteGeno(pop)\n",
    "#cm positions of each marker\n",
    "genMap = SP$genMap\n",
    "geneticMap = unlist(genMap)"
   ]
  },
  {
   "cell_type": "code",
   "execution_count": 10,
   "metadata": {},
   "outputs": [],
   "source": [
    "%R -o maizeHaplo\n",
    "%R -o maizeGeno\n",
    "%R -o markerEffects\n",
    "%R -o geneticMap\n",
    "%R -o nInd\n",
    "%R -o nChr\n",
    "%R -o segSites"
   ]
  },
  {
   "cell_type": "code",
   "execution_count": 11,
   "metadata": {},
   "outputs": [],
   "source": [
    "from tensorflow import keras\n",
    "from tensorflow.keras.layers import Dense, Input, Flatten, Reshape\n",
    "\n",
    "\n",
    "import random\n",
    "\n",
    "import random\n",
    "\n",
    "def simplify_geneticmap(lst, qtl):\n",
    "    # Select 'qtl' random indexes\n",
    "    indexes_positive = random.sample(range(len(lst)), qtl)\n",
    "    \n",
    "    # Select 'qtl' random indexes not already selected\n",
    "    remaining_indexes = set(range(len(lst))) - set(indexes_positive)\n",
    "    indexes_negative = random.sample(remaining_indexes, qtl)\n",
    "\n",
    "    # Modify the list\n",
    "    for i in range(len(lst)):\n",
    "        if i in indexes_positive:\n",
    "            lst[i] = random.uniform(0.5, 1.0)  # Assign random float between 0.5 and 1.0\n",
    "        elif i in indexes_negative:\n",
    "            lst[i] = random.uniform(-0.5, -1.0)  # Assign random float between -0.5 and -1.0\n",
    "        else:\n",
    "            lst[i] = 0  # Assign 0\n",
    "\n",
    "    return lst\n",
    "\n",
    "\n",
    "\n",
    "import numpy as np\n",
    "import matplotlib.pyplot as plt\n",
    "import seaborn as sns\n",
    "\n",
    "def load_data(file_path):\n",
    "    \"\"\"\n",
    "    Load the numpy array from the specified file path.\n",
    "    \"\"\"\n",
    "    return np.load(file_path)\n",
    "\n",
    "def sum_ploidy_values(data):\n",
    "    \"\"\"\n",
    "    Sum the ploidy values in the data.\n",
    "    \"\"\"\n",
    "    return np.sum(data, axis=2)\n",
    "\n",
    "def create_heatmap(data, title=\"Heatmap of Ploidy Values\", xlabel=\"Marker Index\", ylabel=\"Individual Index\"):\n",
    "    \"\"\"\n",
    "    Create a heatmap from the provided data.\n",
    "    \"\"\"\n",
    "    # Choosing a visually appealing color scheme\n",
    "    cmap = sns.color_palette([\"#1f77b4\", \"#ff7f0e\", \"#2ca02c\"], as_cmap=True)\n",
    "\n",
    "    plt.figure(figsize=(12, 10))\n",
    "    ax = sns.heatmap(data, cmap=cmap, cbar=False)\n",
    "\n",
    "    # Creating a color bar manually\n",
    "    cbar = ax.figure.colorbar(ax.collections[0])\n",
    "    cbar.set_ticks([0.33, 1, 1.67])\n",
    "    cbar.set_ticklabels(['0', '1', '2'])\n",
    "    cbar.set_label('Summed Ploidy Value')\n",
    "\n",
    "    plt.title(title)\n",
    "    plt.xlabel(xlabel)\n",
    "    plt.ylabel(ylabel)\n",
    "\n",
    "    plt.show()"
   ]
  },
  {
   "cell_type": "code",
   "execution_count": 12,
   "metadata": {},
   "outputs": [],
   "source": [
    "def plot_population_heatmap(ax, population_data, marker_strength):\n",
    "    summed_data = np.sum(population_data, axis=2)\n",
    "    cmap = sns.color_palette([\"#1f77b4\", \"#ff7f0e\", \"#2ca02c\"])\n",
    "    strength_cmap = matplotlib.colormaps.get_cmap('RdYlGn')  # Updated line\n",
    "    sns.heatmap(summed_data, cmap=cmap, cbar_kws={'ticks': [0, 1, 2]}, ax=ax)\n",
    "\n",
    "    ax.set_xticks(np.arange(population_data.shape[1]) + 0.5)\n",
    "    marker_labels = [f'{i+1}' for i in range(population_data.shape[1])]\n",
    "    ax.set_xticklabels(marker_labels, rotation=0, ha='center')\n",
    "\n",
    "    for tick_label, strength in zip(ax.get_xticklabels(), marker_strength):\n",
    "        tick_label.set_backgroundcolor(strength_cmap((strength + 1) / 2))  # Normalize and map the strength value\n",
    "        tick_label.set_color('white')\n",
    "        tick_label.set_fontweight('bold')\n",
    "        tick_label.set_bbox(dict(facecolor=strength_cmap((strength + 1) / 2), edgecolor='none', boxstyle='round,pad=0.3'))\n",
    "\n",
    "    ax.set_title(\"Heatmap of Population Genotype Dosages\")\n",
    "    ax.set_xlabel(\"Markers\")\n",
    "    ax.set_ylabel(\"Individuals\")\n",
    "\n",
    "def plot_allele_frequencies(ax, data, marker_strength, sort_by_allele_0=False, bar_width=0.8):\n",
    "    allele_counts = np.apply_along_axis(lambda x: np.bincount(x, minlength=3), axis=2, arr=data)\n",
    "    total_allele_counts = allele_counts.sum(axis=0)\n",
    "    allele_frequencies = total_allele_counts / total_allele_counts.sum(axis=1)[:, np.newaxis]\n",
    "\n",
    "    allele_0_proportions = allele_frequencies[:, 0]\n",
    "    allele_1_proportions = allele_frequencies[:, 1]\n",
    "    x_positions = np.arange(1, len(allele_0_proportions) + 1)\n",
    "    normalized_strength = (np.array(marker_strength) + 1) / 2\n",
    "\n",
    "    cmap = plt.cm.RdYlGn\n",
    "\n",
    "    if sort_by_allele_0:\n",
    "        sorted_indices = np.argsort(-allele_0_proportions)\n",
    "        allele_0_proportions = allele_0_proportions[sorted_indices]\n",
    "        allele_1_proportions = allele_1_proportions[sorted_indices]\n",
    "        normalized_strength = normalized_strength[sorted_indices]\n",
    "\n",
    "    for xpos, a0, a1, strength in zip(x_positions, allele_0_proportions, allele_1_proportions, normalized_strength):\n",
    "        ax.bar(xpos, a0, color='red', edgecolor='black', width=bar_width, label='Allele 0' if xpos == 1 else \"\")\n",
    "        ax.bar(xpos, a1, bottom=a0, color='black', edgecolor='black', width=bar_width, label='Allele 1' if xpos == 1 else \"\")\n",
    "        ax.text(xpos, -0.05, f'{xpos}', horizontalalignment='center', verticalalignment='center', \n",
    "                 color='white', fontsize=8, fontweight='bold', \n",
    "                 bbox=dict(facecolor=cmap(strength), edgecolor='none', boxstyle='round,pad=0.2'))\n",
    "\n",
    "    ax.set_ylim(-0.15, 1)\n",
    "    ax.set_ylabel('Proportion')\n",
    "    ax.set_xlabel('Marker Position')\n",
    "    ax.set_title('Proportion of Alleles 0 and 1 at Each Marker' + (' (Sorted by Allele 0)' if sort_by_allele_0 else ''))\n",
    "    ax.legend(loc='upper right')\n",
    "\n",
    "import tempfile\n",
    "import os\n",
    "\n",
    "def create_frame(farm, episode):\n",
    "    temp_dir = farm.temp_dir\n",
    "    fig = plt.figure(figsize=(10, 15))  # Adjust the figure size\n",
    "\n",
    "    gs = gridspec.GridSpec(3, 1, figure=fig)\n",
    "\n",
    "    ax1 = fig.add_subplot(gs[0])\n",
    "    farm.view_policy(ax1, episode)\n",
    "\n",
    "    ax2 = fig.add_subplot(gs[1])\n",
    "    plot_population_heatmap(ax2, self.current_population, self.marker_strength)\n",
    "\n",
    "    ax3 = fig.add_subplot(gs[2])\n",
    "    plot_allele_frequencies(ax3, self.current_population, self.marker_strength)\n",
    "\n",
    "    # Save the figure as a png in the temporary directory\n",
    "    filename = os.path.join(temp_dir.name, f'frame_{episode}.png')\n",
    "    plt.savefig(filename)\n",
    "    plt.close(fig)  # Close the plot\n",
    "\n",
    "    return filename  # Return the filename for future use\n",
    "def select_parents(policy):\n",
    "    # Calculate the number of top elements to select.\n",
    "    k = policy.shape[1] // 2\n",
    "    # If the tensor has an odd number of elements, add one to 'k' to get the upper half.\n",
    "    if policy.shape[1] % 2 != 0:\n",
    "        k += 1\n",
    "    values, indices = tf.math.top_k(policy, k)\n",
    "    return values,indices\n"
   ]
  },
  {
   "cell_type": "code",
   "execution_count": 13,
   "metadata": {},
   "outputs": [
    {
     "data": {
      "text/plain": [
       "<tf.Variable 'UnreadVariable' shape=() dtype=int64, numpy=1>"
      ]
     },
     "execution_count": 13,
     "metadata": {},
     "output_type": "execute_result"
    }
   ],
   "source": [
    "import numpy as np\n",
    "from tensorflow.keras.layers import Input, Flatten, Dense, Reshape\n",
    "from tensorflow.keras import Model\n",
    "import tensorflow as tf\n",
    "\n",
    "def create_critic(n, m, d, population_dummy, scores_dummy, output_dummy):\n",
    "    # Create an additional input for the scores and actor's output\n",
    "    score_input = tf.keras.layers.Input(shape=(n,))\n",
    "    actor_output_input = tf.keras.layers.Input(shape=output_dummy.shape[1:])\n",
    "\n",
    "    # Define the critic model\n",
    "    critic_input = tf.keras.layers.Input(shape=(n, m, d))\n",
    "\n",
    "    x1 = Flatten()(critic_input)\n",
    "    x2 = Dense(64, activation='relu')(score_input)  # Dense layer for the scores\n",
    "    x3 = Flatten()(actor_output_input)  # Flatten the actor's output\n",
    "    x = tf.keras.layers.Concatenate()([x1, x2, x3])  # Concatenate the flattened critic input, score input, and actor's output\n",
    "    x = Dense(64, activation='relu')(x)\n",
    "    x = Dense(64, activation='relu')(x)\n",
    "    x = Dense(1, activation='linear')(x)  # Output layer with single linear unit\n",
    "\n",
    "    critic_model = tf.keras.models.Model([critic_input, score_input, actor_output_input], x)\n",
    "    critic_model.compile(optimizer='adam', loss='mean_squared_error')  # Use MSE loss for value prediction\n",
    "\n",
    "    return critic_model\n",
    "\n",
    "def create_actor(n, m, d, total_parents, population_dummy, scores_dummy):\n",
    "    # Create an additional input for the scores\n",
    "    score_input = tf.keras.layers.Input(shape=(n,))\n",
    "\n",
    "    # Define the actor model\n",
    "    actor_input = tf.keras.layers.Input(shape=(n, m, d))\n",
    "\n",
    "    x1 = Flatten()(actor_input)\n",
    "    x2 = Dense(64, activation='relu')(score_input)  # Dense layer for the scores\n",
    "    x = tf.keras.layers.Concatenate()([x1, x2])  # Concatenate the flattened actor input and the score input\n",
    "    x = Dense(64, activation='relu')(x)\n",
    "    x = Dense(64, activation='relu')(x)\n",
    "    x = Dense(n, activation='linear')(x)  # Output layer with n linear units\n",
    "\n",
    "    actor_model = tf.keras.models.Model([actor_input, score_input], x)\n",
    "    actor_model.compile(optimizer='adam', loss='mean_squared_error')  # Use MSE loss for value prediction\n",
    "\n",
    "    return actor_model\n",
    "\n",
    "import numpy as np\n",
    "\n",
    "\n",
    "#dummy functions to  generate fake data to develop the training pipeline\n",
    "def pop_gen(b, n, m, d):\n",
    "    return np.random.randint(2, size=(b, n, m, d))\n",
    "def reward_gen():\n",
    "    return np.random.rand\n",
    "def scores_gen(n):\n",
    "    return np.random.rand(1, n)\n",
    "\n",
    "n = 50\n",
    "m = 30\n",
    "d = 2\n",
    "total_parents = n*2\n",
    "population_dummy = pop_gen(1, n, m, d)  # Extra dimension for batch size\n",
    "scores_dummy =  scores_gen(n) # Extra dimension for batch size\n",
    "#init actor and critic models\n",
    "actor_model = create_actor(n,m,d,total_parents, population_dummy, scores_dummy)\n",
    "# Feed the dummy data through the network to get an example for creating critic model\n",
    "actor_output = actor_model([population_dummy, scores_dummy])\n",
    "critic_model = create_critic(n,m,d, population_dummy, scores_dummy,actor_output)\n",
    "\n",
    "\n",
    "#HOW TO TAKE ACTION\n",
    "policy = actor_output # find the policy\n",
    "parent_values, parent_indices = select_parents(policy) #select parents\n",
    "selected_parents = population_dummy[0][parent_indices.numpy()] #grab parents from our current population\n",
    "#HOW TO CALCULATE REWARD\n",
    "past_fitness = scores_gen(n)\n",
    "new_fitness = scores_gen(n)\n",
    "reward = new_fitness-past_fitness\n",
    "\n",
    "# update the actor\n",
    "with tf.GradientTape() as tape:\n",
    "    new_policy = actor_model([population_dummy, scores_dummy], training=True)  # compute new policy with actor\n",
    "    actor_loss = -tf.reduce_mean(critic_model([population_dummy, scores_dummy, new_policy]))  # compute actor loss\n",
    "# Get the gradients\n",
    "actor_grad = tape.gradient(actor_loss, actor_model.trainable_variables)\n",
    "# Update the weights\n",
    "actor_model.optimizer.apply_gradients(zip(actor_grad, actor_model.trainable_variables))\n",
    "\n",
    "# update the critic\n",
    "with tf.GradientTape() as tape:\n",
    "    critic_value = critic_model([population_dummy, scores_dummy, actor_output], training=True)  # compute critic value\n",
    "    critic_loss = tf.keras.losses.MSE(reward, critic_value)  # compute critic loss\n",
    "# Get the gradients\n",
    "critic_grad = tape.gradient(critic_loss, critic_model.trainable_variables)\n",
    "# Update the weights\n",
    "critic_model.optimizer.apply_gradients(zip(critic_grad, critic_model.trainable_variables))"
   ]
  },
  {
   "cell_type": "code",
   "execution_count": 26,
   "metadata": {},
   "outputs": [
    {
     "name": "stdout",
     "output_type": "stream",
     "text": [
      "reshape haplo (50, 40, 2)\n"
     ]
    }
   ],
   "source": [
    "class BreedingProgram:\n",
    "    \"\"\"\n",
    "    Represents a breeding program with a PPO agent.\n",
    "    \"\"\"\n",
    "\n",
    "    def __init__(self, initial_population, genetic_map, population_size, marker_count, chromosome_number, max_generation, heritability):\n",
    "        \"\"\"\n",
    "        Initializes the breeding program.\n",
    "        \"\"\"\n",
    "\n",
    "        # Initialize the basic attributes\n",
    "        self.population_size = population_size\n",
    "        self.marker_count = marker_count\n",
    "        self.initial_population = initial_population\n",
    "        self.genetic_map = genetic_map\n",
    "        self.max_generation = max_generation\n",
    "        self.marker_strength = np.array(self.genetic_map['Yield'])\n",
    "\n",
    "        # Initialize the simulator\n",
    "        self.simulator = Simulator(genetic_map=self.genetic_map, h2=heritability)\n",
    "        self.simulator.load_population('mypop.npy')\n",
    "\n",
    "        #tempdir\n",
    "        self.temp_dir = tempfile.TemporaryDirectory()\n",
    "\n",
    "#actor_model = create_actor(n,m,d,total_parents, population_dummy, scores_dummy)\n",
    "\n",
    "        # Initialize the current generation and history\n",
    "        self.current_generation = 0\n",
    "        self.history = []\n",
    "\n",
    "        # Initialize the Actor and Critic models\n",
    "        #actor_model = create_actor(n,m,d,total_parents, population_dummy, scores_dummy)\n",
    "\n",
    "        self.actor = create_actor(n=self.population_size,\n",
    "                                  m=self.marker_count,\n",
    "                                  d=2,\n",
    "                                  total_parents = self.population_size,\n",
    "                                  population_dummy = self.initial_population, \n",
    "                                  scores_dummy=self.simulator.phenotype(self.initial_population)\n",
    "                                  )\n",
    "        population_dummy = np.random.rand(1, self.population_size,self.marker_count,2)  # Extra dimension for batch size\n",
    "        scores_dummy = np.random.rand(1, self.population_size)  # Extra dimension for batch size\n",
    "        output_dummy = self.actor([population_dummy, scores_dummy])\n",
    "        self.critic = create_critic(n=self.population_size,\n",
    "                                  m=self.marker_count,\n",
    "                                  d=2,\n",
    "                                  population_dummy = self.initial_population, \n",
    "                                  scores_dummy=self.simulator.phenotype(self.initial_population),\n",
    "                                  output_dummy = output_dummy)\n",
    "        \n",
    "\n",
    "        self.actor_optimizer = tf.keras.optimizers.Adam(learning_rate=0.0001)\n",
    "        self.critic_optimizer = tf.keras.optimizers.Adam(learning_rate=0.0001)\n",
    "        self.critic_history = []\n",
    "        self.actor_history = []\n",
    "\n",
    "                # Start the breeding program\n",
    "        self._start_breeding_program()\n",
    "        \n",
    "    def _start_breeding_program(self):\n",
    "        \"\"\"\n",
    "        Starts the breeding program.\n",
    "        \"\"\"\n",
    "        self.current_population = self.initial_population\n",
    "        self.current_scores = self.simulator.GEBV(self.initial_population)\n",
    "        self.history.append(self.current_scores)\n",
    " \n",
    "\n",
    "    def run_program(self,num_cycles):\n",
    "        for i in range(num_cycles):\n",
    "            self.run_cycle()\n",
    "        self.current_population = self.initial_population\n",
    "\n",
    "    def run_cycle(self):\n",
    "        #init actor and critic models\n",
    "        current_pop = device_get(self.current_population.reshape(1, *self.current_population.shape))\n",
    "        current_scores = self.simulator.GEBV(current_pop[0])\n",
    "        current_scores = current_scores.to_numpy().transpose()\n",
    "\n",
    "        policy = self.actor([current_pop, current_scores])\n",
    "        parent_values, parent_indices = select_parents(policy) #select parents\n",
    "        selected_parents = self.current_population[parent_indices.numpy()] #grab parents from our current population\n",
    "        \n",
    "        #HOW TO CALCULATE REWARD\n",
    "        past_fitness = self.simulator.GEBV(self.current_population).mean()\n",
    "        new_pop = self.simulator.random_crosses(selected_parents[0], n_crosses = current_pop[0].shape[0])\n",
    "        new_fitness = self.simulator.GEBV(new_pop).mean()\n",
    "        reward = new_fitness-past_fitness\n",
    "\n",
    "        #UPDATE ACTOR\n",
    "        with tf.GradientTape() as tape:\n",
    "            new_policy = self.actor([current_pop, current_scores], training=True)  # compute new policy with actor\n",
    "            actor_loss = -tf.reduce_mean(self.critic([current_pop, current_scores, new_policy]))  # compute actor loss\n",
    "        # Get the gradients\n",
    "        actor_grad = tape.gradient(actor_loss, self.actor.trainable_variables)\n",
    "        # Update the weights\n",
    "        self.actor_optimizer.apply_gradients(zip(actor_grad, self.actor.trainable_variables))\n",
    "\n",
    "        #UPDATE CRITIC\n",
    "        with tf.GradientTape() as tape:\n",
    "            critic_value = self.critic([current_pop, current_scores, policy], training=True)  # compute critic value\n",
    "            critic_loss = tf.keras.losses.MSE(reward, critic_value)  # compute critic loss\n",
    "        # Get the gradients\n",
    "        critic_grad = tape.gradient(critic_loss, self.critic.trainable_variables)\n",
    "        # Update the weights\n",
    "        self.critic_optimizer.apply_gradients(zip(critic_grad, self.critic.trainable_variables))\n",
    "\n",
    "        self.current_population = new_pop\n",
    "\n",
    "    def view_policy(self, ax, episode):\n",
    "        current_pop = self.current_population.reshape(1,*self.current_population.shape)\n",
    "        policy = self.actor(current_pop)\n",
    "        sns.heatmap(policy[0], ax=ax)\n",
    "        ax.set_xlabel('Individual ID')\n",
    "        ax.set_ylabel('Parent Slot ID')\n",
    "        ax.annotate('Episode: {}'.format(episode), xy=(0.5, 1.05), xycoords='axes fraction', fontsize=12, ha='center')\n",
    "\n",
    "\n",
    "\n",
    "\n",
    "\n",
    "\n",
    "initial_population =  reshape_pop(maizeHaplo) \n",
    "genetic_map = return_genetic_map_df(markerEffects, nChr, geneticMap)\n",
    "genetic_map['Yield'] = simplify_geneticmap(list(genetic_map['Yield']),5)\n",
    "reshapeHaplo = reshape_pop(maizeHaplo)\n",
    "np.save('mypop', reshapeHaplo)\n",
    "print(f'reshape haplo {reshapeHaplo.shape}')\n",
    "population_size = int(nInd)\n",
    "marker_count = int((segSites * nChr))\n",
    "chromosome_number = int(nChr)\n",
    "max_generation = 10\n",
    "heritability = .95\n",
    "mean_score_list=[]\n",
    "critic_loss_list=[]\n",
    "\n",
    "farm  = BreedingProgram(initial_population, genetic_map, population_size, marker_count, chromosome_number, max_generation, heritability)"
   ]
  },
  {
   "cell_type": "code",
   "execution_count": 28,
   "metadata": {},
   "outputs": [
    {
     "data": {
      "text/plain": [
       "array([[0, 0],\n",
       "       [0, 0],\n",
       "       [0, 1],\n",
       "       [1, 0],\n",
       "       [0, 0]], dtype=int32)"
      ]
     },
     "execution_count": 28,
     "metadata": {},
     "output_type": "execute_result"
    }
   ],
   "source": [
    "farm.current_population[0][:5]"
   ]
  },
  {
   "cell_type": "code",
   "execution_count": 29,
   "metadata": {},
   "outputs": [],
   "source": [
    "farm.run_cycle()"
   ]
  },
  {
   "cell_type": "code",
   "execution_count": 30,
   "metadata": {},
   "outputs": [
    {
     "data": {
      "text/plain": [
       "Array([[0, 0],\n",
       "       [0, 0],\n",
       "       [0, 0],\n",
       "       [0, 0],\n",
       "       [0, 0]], dtype=int32)"
      ]
     },
     "execution_count": 30,
     "metadata": {},
     "output_type": "execute_result"
    }
   ],
   "source": []
  },
  {
   "cell_type": "code",
   "execution_count": null,
   "metadata": {},
   "outputs": [],
   "source": []
  },
  {
   "cell_type": "code",
   "execution_count": null,
   "metadata": {},
   "outputs": [],
   "source": [
    "farm.run_cycle()"
   ]
  },
  {
   "cell_type": "code",
   "execution_count": 19,
   "metadata": {},
   "outputs": [
    {
     "name": "stdout",
     "output_type": "stream",
     "text": [
      "[[-0.7816911  -1.5886991  -2.9826608  -2.5900245   0.30329448 -2.4452977\n",
      "  -0.1489811  -2.234078   -0.05781674  0.16578585 -1.2711655  -2.3045425\n",
      "  -1.6840464  -1.0055798  -0.9125349   1.0191381  -2.3621645  -1.0055798\n",
      "  -0.1963427  -0.82744753  0.9360047  -1.6360607  -0.46856552  0.35868675\n",
      "  -2.4472518   0.898279   -1.1840607  -0.9559889  -2.0965734   0.16219085\n",
      "   0.38209856 -1.0136105  -2.5068908  -1.7294542  -1.1089578  -1.0513362\n",
      "  -2.0034552  -0.19438863 -0.9559889  -1.5886991  -0.47624767  2.3299665\n",
      "  -2.899527    0.48372936 -2.266817   -2.2214093  -0.2340684   0.30524832\n",
      "  -0.2897362  -0.48123437]]\n",
      "[[-0.7816911  -1.5886991  -2.9826608  -2.5900245   0.30329448 -2.4452977\n",
      "  -0.1489811  -2.234078   -0.05781674  0.16578585 -1.2711655  -2.3045425\n",
      "  -1.6840464  -1.0055798  -0.9125349   1.0191381  -2.3621645  -1.0055798\n",
      "  -0.1963427  -0.82744753  0.9360047  -1.6360607  -0.46856552  0.35868675\n",
      "  -2.4472518   0.898279   -1.1840607  -0.9559889  -2.0965734   0.16219085\n",
      "   0.38209856 -1.0136105  -2.5068908  -1.7294542  -1.1089578  -1.0513362\n",
      "  -2.0034552  -0.19438863 -0.9559889  -1.5886991  -0.47624767  2.3299665\n",
      "  -2.899527    0.48372936 -2.266817   -2.2214093  -0.2340684   0.30524832\n",
      "  -0.2897362  -0.48123437]]\n"
     ]
    }
   ],
   "source": [
    "farm.run_program(2)"
   ]
  },
  {
   "cell_type": "code",
   "execution_count": null,
   "metadata": {},
   "outputs": [],
   "source": [
    "#contains all logic for breeding program, actor/critic, and populations\n",
    "farm  = BreedingProgram(initial_population, genetic_map, population_size, marker_count, chromosome_number, max_generation, heritability)\n",
    "\n",
    "n = 50\n",
    "m = 40\n",
    "d = 2\n",
    "total_parents = n*2\n",
    "population_dummy = pop_gen(1, n, m, d)  # Extra dimension for batch size\n",
    "scores_dummy =  scores_gen(n) # Extra dimension for batch size\n",
    "\n",
    "\n",
    "#init actor and critic models\n",
    "current_pop = device_get(farm.current_population.reshape(1, *farm.current_population.shape))\n",
    "current_scores = farm.simulator.phenotype(current_pop[0])\n",
    "current_scores = current_scores.to_numpy().transpose()\n",
    "\n",
    "policy = farm.actor([current_pop, current_scores])\n",
    "parent_values, parent_indices = select_parents(policy) #select parents\n",
    "selected_parents = current_pop[0][parent_indices.numpy()] #grab parents from our current population\n",
    "selected_parents.shape\n",
    "\n",
    "#HOW TO CALCULATE REWARD\n",
    "\n",
    "past_fitness = farm.simulator.phenotype(current_pop[0]).mean()\n",
    "new_pop = farm.simulator.random_crosses(selected_parents[0], n_crosses = current_pop[0].shape[0])\n",
    "new_fitness = farm.simulator.phenotype(new_pop).mean()\n",
    "reward = new_fitness-past_fitness\n",
    "\n",
    "#UPDATE ACTOR\n",
    "with tf.GradientTape() as tape:\n",
    "    new_policy = farm.actor([current_pop, current_scores], training=True)  # compute new policy with actor\n",
    "    actor_loss = -tf.reduce_mean(farm.critic([current_pop, current_scores, new_policy]))  # compute actor loss\n",
    "# Get the gradients\n",
    "actor_grad = tape.gradient(actor_loss, farm.actor.trainable_variables)\n",
    "# Update the weights\n",
    "farm.actor_optimizer.apply_gradients(zip(actor_grad, farm.actor.trainable_variables))\n",
    "\n",
    "#UPDATE CRITIC\n",
    "with tf.GradientTape() as tape:\n",
    "    critic_value = farm.critic([current_pop, current_scores, policy], training=True)  # compute critic value\n",
    "    critic_loss = tf.keras.losses.MSE(reward, critic_value)  # compute critic loss\n",
    "# Get the gradients\n",
    "critic_grad = tape.gradient(critic_loss, farm.critic.trainable_variables)\n",
    "# Update the weights\n",
    "farm.critic_optimizer.apply_gradients(zip(critic_grad, farm.critic.trainable_variables))\n",
    "\n",
    "farm.current_population = current_pop[0]\n",
    "print(new_fitness)"
   ]
  },
  {
   "cell_type": "code",
   "execution_count": null,
   "metadata": {},
   "outputs": [],
   "source": []
  },
  {
   "cell_type": "code",
   "execution_count": null,
   "metadata": {},
   "outputs": [],
   "source": [
    "actor_model = create_actor(n,m,d,total_parents, current_population, scores_dummy)\n",
    "# Feed the dummy data through the network to get an example for creating critic model\n",
    "actor_output = actor_model([population_dummy, scores_dummy])\n",
    "critic_model = create_critic(n,m,d, population_dummy, scores_dummy,actor_output)\n",
    "\n",
    "\n",
    "#HOW TO TAKE ACTION\n",
    "policy = actor_output # find the policy\n",
    "parent_values, parent_indices = select_parents(policy) #select parents\n",
    "selected_parents = population_dummy[0][parent_indices.numpy()] #grab parents from our current population\n",
    "#HOW TO CALCULATE REWARD\n",
    "past_fitness = scores_gen(n)\n",
    "new_fitness = scores_gen(n)\n",
    "reward = new_fitness-past_fitness\n",
    "\n",
    "# update the actor\n",
    "with tf.GradientTape() as tape:\n",
    "    new_policy = actor_model([population_dummy, scores_dummy], training=True)  # compute new policy with actor\n",
    "    actor_loss = -tf.reduce_mean(critic_model([population_dummy, scores_dummy, new_policy]))  # compute actor loss\n",
    "# Get the gradients\n",
    "actor_grad = tape.gradient(actor_loss, actor_model.trainable_variables)\n",
    "# Update the weights\n",
    "actor_model.optimizer.apply_gradients(zip(actor_grad, actor_model.trainable_variables))\n",
    "\n",
    "# update the critic\n",
    "with tf.GradientTape() as tape:\n",
    "    critic_value = critic_model([population_dummy, scores_dummy, actor_output], training=True)  # compute critic value\n",
    "    critic_loss = tf.keras.losses.MSE(reward, critic_value)  # compute critic loss\n",
    "# Get the gradients\n",
    "critic_grad = tape.gradient(critic_loss, critic_model.trainable_variables)\n",
    "# Update the weights\n",
    "critic_model.optimizer.apply_gradients(zip(critic_grad, critic_model.trainable_variables))"
   ]
  },
  {
   "cell_type": "code",
   "execution_count": null,
   "metadata": {},
   "outputs": [],
   "source": []
  },
  {
   "cell_type": "code",
   "execution_count": null,
   "metadata": {},
   "outputs": [],
   "source": []
  },
  {
   "cell_type": "code",
   "execution_count": null,
   "metadata": {},
   "outputs": [],
   "source": []
  },
  {
   "cell_type": "code",
   "execution_count": null,
   "metadata": {},
   "outputs": [],
   "source": []
  },
  {
   "cell_type": "code",
   "execution_count": null,
   "metadata": {},
   "outputs": [],
   "source": [
    "with tf.GradientTape() as tape:\n",
    "    actor_output = farm.actor([current_pop, scores_dummy])  # policy\n",
    "    critic_output = farm.critic([current_pop, scores_dummy, actor_output])  # value\n",
    "    chosen_actions_prob = tf.math.log(actor_output)  # log probability of the chosen actions\n",
    "    actor_loss = -tf.reduce_mean(chosen_actions_prob * advantages)  # actor loss\n",
    "\n",
    "grads = tape.gradient(actor_loss, farm.actor.trainable_variables)\n",
    "optimizer.apply_gradients(zip(grads, farm.actor.trainable_variables))\n"
   ]
  },
  {
   "cell_type": "code",
   "execution_count": null,
   "metadata": {},
   "outputs": [],
   "source": [
    "from tensorflow.keras.losses import MeanSquaredError\n",
    "critic_loss_function = MeanSquaredError()\n"
   ]
  },
  {
   "cell_type": "code",
   "execution_count": null,
   "metadata": {},
   "outputs": [],
   "source": [
    "@tf.function\n",
    "def update_actor_and_critic(actor_model, critic_model, states, advantages, critic_target):\n",
    "    \n",
    "    with tf.GradientTape() as tape:\n",
    "        actor_output = actor_model(states)\n",
    "        critic_output = critic_model([states, actor_output])\n",
    "        actor_loss = -tf.reduce_mean(advantages * tf.math.log(actor_output))\n",
    "        critic_loss = critic_loss_function(critic_target, critic_output)\n",
    "\n",
    "    actor_grads = tape.gradient(actor_loss, actor_model.trainable_variables)\n",
    "    critic_grads = tape.gradient(critic_loss, critic_model.trainable_variables)\n",
    "    optimizer.apply_gradients(zip(actor_grads, actor_model.trainable_variables))\n",
    "    optimizer.apply_gradients(zip(critic_grads, critic_model.trainable_variables))\n"
   ]
  },
  {
   "cell_type": "code",
   "execution_count": null,
   "metadata": {},
   "outputs": [],
   "source": [
    "import tensorflow as tf\n",
    "from tensorflow.keras.optimizers import Adam\n",
    "from tensorflow.keras.losses import MeanSquaredError\n",
    "\n",
    "# Define the optimizer and the loss function\n",
    "optimizer = Adam(learning_rate=0.001)\n",
    "critic_loss_function = MeanSquaredError()\n",
    "\n",
    "# Define the actor and critic update steps\n",
    "@tf.function\n",
    "def update_actor_and_critic(actor_model, critic_model, states, scores, advantages, critic_target):\n",
    "    with tf.GradientTape() as tape:\n",
    "        actor_output = actor_model([states, scores])  # policy\n",
    "        critic_output = critic_model([states, scores, actor_output])  # value\n",
    "        actor_loss = -tf.reduce_mean(advantages * tf.math.log(actor_output))\n",
    "        critic_loss = critic_loss_function(critic_target, critic_output)\n",
    "\n",
    "\n",
    "\n",
    "    actor_grads = tape.gradient(actor_loss, actor_model.trainable_variables)\n",
    "    critic_grads = tape.gradient(critic_loss, critic_model.trainable_variables)\n",
    "    farm.actor_optimizer.apply_gradients(zip(actor_grads, actor_model.trainable_variables))\n",
    "    farm.critic_optimizer.apply_gradients(zip(critic_grads, critic_model.trainable_variables))\n",
    "    del tape\n",
    "\n",
    "# Inputs to actor/critic\n",
    "current_pop = farm.current_population.reshape(1, *farm.current_population.shape)\n",
    "current_scores = farm.simulator.phenotype(farm.current_population).to_numpy()\n",
    "current_scores = current_scores.reshape(1, *current_scores.shape)\n",
    "#\n",
    "#.reshape(1, *farm.current_population.shape)\n",
    "#\n",
    "#\n",
    "\n",
    "\n",
    "# Run a single episode\n",
    "# Forward pass\n",
    "actor_output = farm.actor([dummy_pop, scores_dummy])  # policy\n",
    "critic_output = farm.critic([current_pop, scores_dummy, actor_output])  # value\n"
   ]
  },
  {
   "cell_type": "code",
   "execution_count": null,
   "metadata": {},
   "outputs": [],
   "source": [
    "\n",
    "# Parse the actor_output to take an action\n",
    "parent_values, parent_indices = select_parents(actor_output)\n",
    "selected_parents = farm.current_population[parent_indices.numpy()][0]\n",
    "\n",
    "# Transition to next state of environment (new population)\n",
    "next_generation = farm.simulator.random_crosses(selected_parents, n_crosses = selected_parents.shape[0] * 2)\n",
    "\n",
    "# Calculate reward\n",
    "old_fitness = farm.simulator.GEBV(farm.current_population).mean()[0]\n",
    "new_fitness = farm.simulator.GEBV(next_generation).mean()[0]\n",
    "reward = new_fitness - old_fitness  # the reward for taking this action to generate next_generation\n",
    "\n",
    "# Critic loss\n",
    "critic_predicted_reward = critic_output.numpy()[0][0]\n",
    "advantages = reward - critic_predicted_reward\n",
    "\n",
    "# Update actor and critic\n",
    "update_actor_and_critic(farm.actor, farm.critic, current_pop, current_scores.reshape(-1), advantages, reward)\n",
    "\n",
    "# Update current population and scores for the next episode\n",
    "farm.current_population = next_generation\n",
    "#current_scores = farm.simulator.phenotype(next_generation).to_numpy()\n"
   ]
  },
  {
   "cell_type": "code",
   "execution_count": null,
   "metadata": {},
   "outputs": [],
   "source": []
  },
  {
   "cell_type": "code",
   "execution_count": null,
   "metadata": {},
   "outputs": [],
   "source": []
  },
  {
   "cell_type": "code",
   "execution_count": null,
   "metadata": {},
   "outputs": [],
   "source": []
  },
  {
   "cell_type": "code",
   "execution_count": null,
   "metadata": {},
   "outputs": [],
   "source": []
  },
  {
   "cell_type": "code",
   "execution_count": null,
   "metadata": {},
   "outputs": [],
   "source": [
    "current_pop = farm.current_population.reshape(1, *farm.current_population.shape)\n",
    "\n",
    "actor_output = farm.actor([current_pop, current_scores])  # policy\n"
   ]
  },
  {
   "cell_type": "code",
   "execution_count": null,
   "metadata": {},
   "outputs": [],
   "source": [
    "current_pop.shape"
   ]
  },
  {
   "cell_type": "code",
   "execution_count": null,
   "metadata": {},
   "outputs": [],
   "source": [
    "current_scores.shape"
   ]
  },
  {
   "cell_type": "code",
   "execution_count": null,
   "metadata": {},
   "outputs": [],
   "source": [
    "# a single episode \n",
    "current_pop = farm.current_population.reshape(1, *farm.current_population.shape)\n",
    "current_scores = farm.simulator.phenotype(farm.current_population).to_numpy().flatten()"
   ]
  },
  {
   "cell_type": "code",
   "execution_count": null,
   "metadata": {},
   "outputs": [],
   "source": [
    "farm.actor([current_pop, scores_dummy])"
   ]
  },
  {
   "cell_type": "code",
   "execution_count": null,
   "metadata": {},
   "outputs": [],
   "source": [
    "scores_dummy.shape"
   ]
  },
  {
   "cell_type": "code",
   "execution_count": null,
   "metadata": {},
   "outputs": [],
   "source": [
    "farm.actor([current_pop,])"
   ]
  },
  {
   "cell_type": "code",
   "execution_count": null,
   "metadata": {},
   "outputs": [],
   "source": []
  },
  {
   "cell_type": "code",
   "execution_count": null,
   "metadata": {},
   "outputs": [],
   "source": [
    "\n",
    "actor_output = farm.actor([current_pop, scores_dummy]) #policy\n",
    "critic_output = farm.critic([current_pop, scores_dummy, actor_output]) #value\n",
    "\n",
    "#parse the actor_output to take an action\n",
    "parent_values, parent_indices = select_parents(actor_output)\n",
    "selected_parents = farm.current_population[parent_indices.numpy()][0]\n",
    "\n",
    "#transition to next state of environment (new population)\n",
    "next_generation = farm.simulator.random_crosses(selected_parents, n_crosses = selected_parents.shape[0] * 2)\n",
    "\n",
    "#calculate reward\n",
    "old_fitness = farm.simulator.GEBV(farm.current_population).mean()[0]\n",
    "new_fitness = farm.simulator.GEBV(next_generation).mean()[0]\n",
    "reward = new_fitness - old_fitness #the reward should we take this action to generate next_generation\n",
    "\n",
    "#critic loss\n",
    "critic_predicted_reward = critic_output.numpy()[0][0]\n",
    "advantages = reward - critic_predicted_reward\n",
    "\n"
   ]
  },
  {
   "cell_type": "code",
   "execution_count": null,
   "metadata": {},
   "outputs": [],
   "source": [
    "scores_dummy"
   ]
  },
  {
   "cell_type": "code",
   "execution_count": null,
   "metadata": {},
   "outputs": [],
   "source": []
  },
  {
   "cell_type": "code",
   "execution_count": null,
   "metadata": {},
   "outputs": [],
   "source": [
    "optimizer = farm.actor_optimizer"
   ]
  },
  {
   "cell_type": "code",
   "execution_count": null,
   "metadata": {},
   "outputs": [],
   "source": []
  },
  {
   "cell_type": "code",
   "execution_count": null,
   "metadata": {},
   "outputs": [],
   "source": [
    "grads = tape.gradient(actor_loss, farm.actor.trainable_variables)\n",
    "optimizer.apply_gradients(zip(grads, farm.actor.trainable_variables))\n"
   ]
  },
  {
   "cell_type": "code",
   "execution_count": null,
   "metadata": {},
   "outputs": [],
   "source": []
  },
  {
   "cell_type": "markdown",
   "metadata": {},
   "source": [
    "The actor loss is the negative average of the log probabilities of the selected actions, weighted by the advantage. The negative sign is used because we want to perform gradient ascent to maximize the expected reward, but TensorFlow's optimizers perform gradient descent to minimize the loss."
   ]
  },
  {
   "cell_type": "code",
   "execution_count": null,
   "metadata": {},
   "outputs": [],
   "source": [
    "import tensorflow as tf\n",
    "\n",
    "actor_loss = -tf.reduce_mean(advantages * tf.math.log(actor_output))"
   ]
  },
  {
   "cell_type": "code",
   "execution_count": null,
   "metadata": {},
   "outputs": [],
   "source": [
    "optimizer = farm.actor_optimizer\n",
    "\n",
    "with tf.GradientTape() as tape:\n",
    "   actor_loss = -tf.reduce_mean(advantages * tf.math.log(actor_output))\n",
    "grads = tape.gradient(actor_loss, farm.actor.trainable_variables)\n",
    "optimizer.apply_gradients(zip(grads, farm.actor.trainable_variables))"
   ]
  },
  {
   "cell_type": "code",
   "execution_count": null,
   "metadata": {},
   "outputs": [],
   "source": []
  },
  {
   "cell_type": "code",
   "execution_count": null,
   "metadata": {},
   "outputs": [],
   "source": [
    "#create init population + genetic map\n",
    "n = int(nInd)\n",
    "m = int((segSites * nChr))\n",
    "d = 2\n",
    "total_parents = n*2 # pop size per cycle\n",
    "\n",
    "\n",
    "\n",
    "def calculate_true_reward(simulator, current_population, new_population):\n",
    "    true_reward = simulator.GEBV(new_population).mean() - simulator.GEBV(current_population).mean()\n",
    "    return true_reward\n",
    "\n",
    "def calculate_critic_loss(true_reward, critic_output):\n",
    "    return (true_reward - critic_output)**2\n",
    "    \n",
    "\n",
    "\n",
    "\n",
    "def calculate_actor_loss(actor_output, selected_array, advantages):\n",
    "    actor_log_probs = tf.math.log(actor_output)\n",
    "    selected_log_probs = tf.gather(actor_log_probs, selected_array, axis=1)\n",
    "    loss = -tf.reduce_sum(selected_log_probs * advantages)\n",
    "    return loss\n",
    "\n",
    "\n",
    "@tf.function\n",
    "def actor_train_step(actor_model, optimizer, loss, example_population, selected_array, advantages):\n",
    "    with tf.GradientTape() as tape:\n",
    "        predicted_actions = actor_model(example_population)\n",
    "        actor_loss = loss(predicted_actions, selected_array, advantages)\n",
    "    gradients = tape.gradient(actor_loss, actor_model.trainable_variables)\n",
    "    optimizer.apply_gradients(zip(gradients, actor_model.trainable_variables))\n",
    "    return actor_loss\n",
    "\n",
    "\n",
    "\n",
    "@tf.function\n",
    "def critic_train_step(critic_model, optimizer, example_population, actor_output, past_fitness):\n",
    "    with tf.GradientTape() as tape:\n",
    "        predicted_rewards = critic_model([ example_population, actor_output])\n",
    "        critic_loss = (past_fitness - predicted_rewards) ** 2\n",
    "    gradients = tape.gradient(critic_loss, critic_model.trainable_variables)\n",
    "    optimizer.apply_gradients(zip(gradients, critic_model.trainable_variables))\n",
    "    return critic_loss"
   ]
  },
  {
   "cell_type": "code",
   "execution_count": null,
   "metadata": {},
   "outputs": [],
   "source": []
  },
  {
   "cell_type": "code",
   "execution_count": null,
   "metadata": {},
   "outputs": [],
   "source": [
    "\n",
    "future_rewards = self.simulator.GEBV(new_population).mean()[0]\n",
    "advantages = future_rewards - critic_output.numpy()[0][0]\n",
    "\n",
    "actor_loss = actor_train_step(self.actor, self.actor_optimizer, calculate_actor_loss, current_pop, selected_array, advantages)\n",
    "critic_loss = critic_train_step(self.critic, self.critic_optimizer, current_pop, actor_output, past_fitness=future_rewards)\n",
    "\n",
    "mean_score_list.append(self.simulator.GEBV(self.current_population).mean()[0])\n",
    "self.critic_history.append(critic_loss.numpy()[0][0])\n",
    "self.actor_history.append(actor_loss)\n",
    "\n",
    "self.current_population = np.array(new_population)\n",
    "self.current_scores = self.simulator.GEBV(self.current_population)\n",
    "self.history.append(self.current_scores)"
   ]
  },
  {
   "cell_type": "code",
   "execution_count": null,
   "metadata": {},
   "outputs": [],
   "source": []
  },
  {
   "cell_type": "code",
   "execution_count": null,
   "metadata": {},
   "outputs": [],
   "source": [
    "current_pop = farm.current_population.reshape(1, *farm.current_population.shape)\n",
    "current_scores = farm.simulator.phenotype(farm.current_population).to_numpy()\n",
    "actor_output = farm.actor([current_pop, scores_dummy])"
   ]
  },
  {
   "cell_type": "code",
   "execution_count": null,
   "metadata": {},
   "outputs": [],
   "source": [
    "actor_output"
   ]
  },
  {
   "cell_type": "code",
   "execution_count": null,
   "metadata": {},
   "outputs": [],
   "source": []
  },
  {
   "cell_type": "code",
   "execution_count": null,
   "metadata": {},
   "outputs": [],
   "source": [
    "selected_parents = select_parents(actor_output)[1].numpy()"
   ]
  },
  {
   "cell_type": "code",
   "execution_count": null,
   "metadata": {},
   "outputs": [],
   "source": [
    "selected_parents"
   ]
  },
  {
   "cell_type": "code",
   "execution_count": null,
   "metadata": {},
   "outputs": [],
   "source": [
    "next_generation = farm.simulator.random_crosses(farm.current_population[selected_parents][0],n_crosses = len(selected_parents)*2)"
   ]
  },
  {
   "cell_type": "code",
   "execution_count": null,
   "metadata": {},
   "outputs": [],
   "source": []
  },
  {
   "cell_type": "code",
   "execution_count": null,
   "metadata": {},
   "outputs": [],
   "source": [
    "print(\"Top 50% values: \", values.numpy())\n",
    "print(\"Their indices: \", indices.numpy())\n"
   ]
  },
  {
   "cell_type": "code",
   "execution_count": null,
   "metadata": {},
   "outputs": [],
   "source": [
    "actor_output[0].shape"
   ]
  },
  {
   "cell_type": "code",
   "execution_count": null,
   "metadata": {},
   "outputs": [],
   "source": [
    "[select_parent(x) for x in actor_output[0]]"
   ]
  },
  {
   "cell_type": "code",
   "execution_count": null,
   "metadata": {},
   "outputs": [],
   "source": [
    "\n",
    "critic_model = create_critic(n, m, d, population_dummy, scores_dummy, actor_output)\n",
    "critic_output = critic_model([population_dummy, scores_dummy, actor_output])\n",
    "print(critic_output)\n"
   ]
  },
  {
   "cell_type": "markdown",
   "metadata": {},
   "source": [
    "The actor loss is the negative average of the log probabilities of the selected actions, weighted by the advantage. The negative sign is used because we want to perform gradient ascent to maximize the expected reward, but TensorFlow's optimizers perform gradient descent to minimize the loss."
   ]
  },
  {
   "cell_type": "code",
   "execution_count": null,
   "metadata": {},
   "outputs": [],
   "source": [
    "def truncate_cycle(x):\n",
    "    nInd = x.current_population.shape[0]\n",
    "    top5 = x.simulator.select(x.current_population,k=nInd // 2)\n",
    "    new_pop = x.simulator.random_crosses(top5,n_crosses=nInd)\n",
    "    x.history.append(x.simulator.GEBV(new_pop))\n",
    "    x.current_population = new_pop"
   ]
  },
  {
   "cell_type": "code",
   "execution_count": null,
   "metadata": {},
   "outputs": [],
   "source": [
    "trunk_farm = farm\n",
    "for i in range(10):\n",
    "    truncate_cycle(trunk_farm)\n",
    "\n",
    "data = [x.to_numpy().flatten() for x in trunk_farm.history]\n",
    "df = pd.DataFrame(data).T\n",
    "# Create boxplot for each column (list)\n",
    "plt.figure(figsize=(12, 6))  # Optional: You can set the figure size\n",
    "sns.boxplot(data=df)\n",
    "plt.show()\n"
   ]
  },
  {
   "cell_type": "code",
   "execution_count": null,
   "metadata": {},
   "outputs": [],
   "source": [
    "len(farm.history)"
   ]
  },
  {
   "cell_type": "code",
   "execution_count": null,
   "metadata": {},
   "outputs": [],
   "source": []
  },
  {
   "cell_type": "code",
   "execution_count": null,
   "metadata": {},
   "outputs": [],
   "source": []
  },
  {
   "cell_type": "code",
   "execution_count": null,
   "metadata": {},
   "outputs": [],
   "source": []
  },
  {
   "cell_type": "code",
   "execution_count": null,
   "metadata": {},
   "outputs": [],
   "source": [
    "my_frames = farm.run_episodes(150,10)"
   ]
  },
  {
   "cell_type": "code",
   "execution_count": null,
   "metadata": {},
   "outputs": [],
   "source": [
    "images = []\n",
    "for filename in my_frames:\n",
    "    images.append(imageio.imread(filename))\n",
    "imageio.mimsave('training_animation.gif', images, loop=1)\n"
   ]
  },
  {
   "cell_type": "code",
   "execution_count": null,
   "metadata": {},
   "outputs": [],
   "source": [
    "#average fitness for each episode\n",
    "import matplotlib.pyplot as plt\n",
    "import pandas as pd\n",
    "\n",
    "mean_score_list = [x.mean() for x in farm.history]\n",
    "# Assuming mean_score_list is a list containing your data\n",
    "mean_score_series = pd.Series(mean_score_list)\n",
    "\n",
    "# Calculate the rolling average\n",
    "rolling_mean = mean_score_series.rolling(window=100).mean()\n",
    "\n",
    "# Create the plot\n",
    "plt.figure(figsize=(10, 5))\n",
    "plt.plot(mean_score_series, label='Original')\n",
    "plt.plot(rolling_mean, 'r-', label='Rolling Average')\n",
    "plt.title(\"episode # vs critic loss\")\n",
    "plt.legend(loc='upper left')\n",
    "plt.show()\n"
   ]
  },
  {
   "cell_type": "code",
   "execution_count": null,
   "metadata": {},
   "outputs": [],
   "source": [
    "data = [x.to_numpy().flatten() for x in farm.history]\n",
    "df = pd.DataFrame(data).T\n",
    "# Create boxplot for each column (list)\n",
    "plt.figure(figsize=(12, 6))  # Optional: You can set the figure size\n",
    "sns.boxplot(data=df)\n",
    "plt.show()\n"
   ]
  },
  {
   "cell_type": "code",
   "execution_count": null,
   "metadata": {},
   "outputs": [],
   "source": [
    "plt.plot(farm.critic_history)"
   ]
  },
  {
   "cell_type": "code",
   "execution_count": null,
   "metadata": {},
   "outputs": [],
   "source": [
    "plt.plot(farm.actor_history)"
   ]
  },
  {
   "cell_type": "code",
   "execution_count": null,
   "metadata": {},
   "outputs": [],
   "source": [
    "plt.plot([x.mean()[0] for x in farm.history])"
   ]
  },
  {
   "cell_type": "code",
   "execution_count": null,
   "metadata": {},
   "outputs": [],
   "source": []
  }
 ],
 "metadata": {
  "kernelspec": {
   "display_name": "Python 3",
   "language": "python",
   "name": "python3"
  },
  "language_info": {
   "codemirror_mode": {
    "name": "ipython",
    "version": 3
   },
   "file_extension": ".py",
   "mimetype": "text/x-python",
   "name": "python",
   "nbconvert_exporter": "python",
   "pygments_lexer": "ipython3",
   "version": "3.8.10"
  }
 },
 "nbformat": 4,
 "nbformat_minor": 2
}
