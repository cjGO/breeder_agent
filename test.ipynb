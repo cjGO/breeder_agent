{
 "cells": [
  {
   "cell_type": "code",
   "execution_count": 1,
   "metadata": {},
   "outputs": [],
   "source": [
    "%load_ext rpy2.ipython"
   ]
  },
  {
   "cell_type": "code",
   "execution_count": 2,
   "metadata": {},
   "outputs": [],
   "source": [
    "from rpy2.robjects.packages import importr\n",
    "import rpy2.robjects as robjects"
   ]
  },
  {
   "cell_type": "code",
   "execution_count": 3,
   "metadata": {},
   "outputs": [
    {
     "name": "stdout",
     "output_type": "stream",
     "text": [
      "Using TensorFlow backend\n"
     ]
    },
    {
     "name": "stderr",
     "output_type": "stream",
     "text": [
      "2023-12-22 19:22:40.241022: I tensorflow/core/util/port.cc:110] oneDNN custom operations are on. You may see slightly different numerical results due to floating-point round-off errors from different computation orders. To turn them off, set the environment variable `TF_ENABLE_ONEDNN_OPTS=0`.\n",
      "2023-12-22 19:22:40.243053: I tensorflow/tsl/cuda/cudart_stub.cc:28] Could not find cuda drivers on your machine, GPU will not be used.\n",
      "2023-12-22 19:22:40.283051: I tensorflow/tsl/cuda/cudart_stub.cc:28] Could not find cuda drivers on your machine, GPU will not be used.\n",
      "2023-12-22 19:22:40.284493: I tensorflow/core/platform/cpu_feature_guard.cc:182] This TensorFlow binary is optimized to use available CPU instructions in performance-critical operations.\n",
      "To enable the following instructions: AVX2 AVX512F AVX512_VNNI FMA, in other operations, rebuild TensorFlow with the appropriate compiler flags.\n",
      "2023-12-22 19:22:41.434553: W tensorflow/compiler/tf2tensorrt/utils/py_utils.cc:38] TF-TRT Warning: Could not find TensorRT\n"
     ]
    }
   ],
   "source": [
    "import keras_core as keras\n",
    "from keras_core import layers\n",
    "\n",
    "import matplotlib.pyplot as plt\n",
    "import numpy as np\n",
    "import pandas as pd\n",
    "from chromax import Simulator, sample_data\n",
    "import pathlib"
   ]
  },
  {
   "cell_type": "code",
   "execution_count": 4,
   "metadata": {},
   "outputs": [],
   "source": [
    "\n",
    "def plot_means_and_variances(dataframes):\n",
    "    # Calculate the mean and variance for each dataframe\n",
    "    mean_values = [df.mean() for df in dataframes]\n",
    "    var_values = [df.var() for df in dataframes]\n",
    "    var_values = np.array(var_values).flatten()\n",
    "    mean_values = np.array(mean_values).flatten()\n",
    "\n",
    "    # Create an array for the x-values\n",
    "    x_values = range(len(dataframes))\n",
    "\n",
    "    # Create the scatter plot with error bars\n",
    "    plt.errorbar(x_values, mean_values, yerr=var_values, fmt='o')\n",
    "\n",
    "    # Display the plot\n",
    "    plt.show()\n",
    "\n",
    "\n",
    "def generate_genetic_map(n_markers, n_chromosomes):\n",
    "  df = pd.DataFrame(generate_marker_effects(n_markers=n_markers), columns=['Yield'])\n",
    "  df['cM'] = np.random.uniform(0, 200, len(df))\n",
    "  df['CHR.PHYS'] = '1A'\n",
    "  df = df.sort_values(by='cM')\n",
    "  df = df[['CHR.PHYS', 'cM', 'Yield']]\n",
    "  # save df as csv under filename\n",
    "  return df\n",
    "\n",
    "def generate_population(n_pop=100, n_markers=500):\n",
    "    \"\"\"\n",
    "    Generate a numpy array of randoms of length 500 with randomized 0, 1, or 2 at each position.\n",
    "    It will generate 100 individuals based on n_pop.\n",
    "\n",
    "    Returns: numpy array of size (n_pop, n_markers)\n",
    "    \"\"\"\n",
    "    shape=(n_pop, n_markers, 2)\n",
    "    # Define the elements to choose from and their associated probabilities\n",
    "    elements = [0, 1, 2]\n",
    "    probabilities = [1/3, 1/3, 1/3]  # equal probabilities for 0, 1, and 2\n",
    "\n",
    "    # Generate the population\n",
    "    population = np.random.choice(elements, size=(n_pop, n_markers), p=probabilities)\n",
    "\n",
    "    return np.random.choice([True, False], size=shape)\n",
    "\n",
    "\n",
    "def generate_marker_effects(n_markers=500, mu=0, sigma=0.1):\n",
    "    \"\"\"\n",
    "    Generate a numpy array of marker effects with a normal distribution.\n",
    "\n",
    "    Parameters:\n",
    "    n_markers (int): Number of markers.\n",
    "    mu (float): Mean of the distribution.\n",
    "    sigma (float): Standard deviation of the distribution.\n",
    "\n",
    "    Returns:\n",
    "    numpy array of marker effects\n",
    "    \"\"\"\n",
    "\n",
    "    # Generate the marker effects\n",
    "    marker_effects = np.random.normal(mu, sigma, n_markers)\n",
    "\n",
    "    return marker_effects\n",
    "\n",
    "import numpy as np\n",
    "\n",
    "def select_random_individuals(arr, num_individuals):\n",
    "    # Get the shape of the array\n",
    "    shape = arr.shape\n",
    "\n",
    "    # Generate random indices along the first axis\n",
    "    idx = np.random.choice(shape[0], size=num_individuals)\n",
    "\n",
    "    # Select the random individuals\n",
    "\n",
    "    return random_individuals\n",
    "\n",
    "def select_mixed(population, random_split=.99):\n",
    "  n_pop = population.shape[0]\n",
    "\n",
    "  n_random = int(n_pop * random_split)\n",
    "  n_select = int(n_pop * (1-random_split))\n",
    "\n",
    "  random_parents = select_random_individuals(Farm.current_population, n_random)\n",
    "  selected_parents = Farm.Simulator.select(Farm.current_population, k = n_select)\n",
    "  combined_arr = np.concatenate((random_parents, selected_parents), axis=0)\n",
    "  return combined_arr\n",
    "\n",
    "def plot_replicate_means_and_variances(replicate_data, start_index=None, end_index=None):\n",
    "    # Create a new figure and axes\n",
    "    fig, ax = plt.subplots()\n",
    "\n",
    "    # If start_index or end_index is not provided, set them to default values\n",
    "    if start_index is None:\n",
    "        start_index = 0\n",
    "    if end_index is None:\n",
    "        end_index = len(replicate_data[0])\n",
    "\n",
    "    # For each list of dataframes in replicate_data\n",
    "    for i, dataframes in enumerate(replicate_data):\n",
    "        # Select the dataframes in the specified range\n",
    "        dataframes = dataframes[start_index:end_index]\n",
    "\n",
    "        # Calculate the mean and variance for each dataframe\n",
    "        mean_values = [df.mean() for df in dataframes]\n",
    "        var_values = [df.var() for df in dataframes]\n",
    "\n",
    "        # Flatten the var_values and mean_values lists to 1D arrays\n",
    "        var_values = np.array(var_values).flatten()\n",
    "        mean_values = np.array(mean_values).flatten()\n",
    "\n",
    "        # Create an array for the x-values\n",
    "        x_values = range(len(dataframes))\n",
    "\n",
    "        # Plot the means with error bars for the variances\n",
    "        ax.errorbar(x_values, mean_values, yerr=var_values, fmt='o', label=f'Replicate {i+1}')\n",
    "\n",
    "    # Add a legend\n",
    "    ax.legend()\n",
    "\n",
    "    # Display the plot\n",
    "    plt.show()\n",
    "\n",
    "\n",
    "def plot_replicate_means(replicate_data):\n",
    "    # Create a new figure and axes\n",
    "    fig, ax = plt.subplots()\n",
    "\n",
    "    # For each list of dataframes in replicate_data\n",
    "    for i, dataframes in enumerate(replicate_data):\n",
    "        # Calculate the mean for each dataframe\n",
    "        mean_values = [df.mean() for df in dataframes]\n",
    "        # Flatten the mean_values list to a 1D array\n",
    "        mean_values = np.array(mean_values).flatten()\n",
    "\n",
    "        # Create an array for the x-values\n",
    "        x_values = range(len(dataframes))\n",
    "\n",
    "        # Plot the means as a line plot\n",
    "        ax.plot(x_values, mean_values, label=f'Replicate {i+1}')\n",
    "\n",
    "    # Add a legend\n",
    "    ax.legend()\n",
    "\n",
    "    # Display the plot\n",
    "    plt.show()\n",
    "\n",
    "def parse_markerEffects(genetic_map, nChr):\n",
    "    # Get the length of the genetic map\n",
    "    length = len(genetic_map)\n",
    "\n",
    "    # Create a new array for storing the chromosome number for each marker\n",
    "    chr = [0] * length\n",
    "\n",
    "    # Calculate the number of markers per chromosome\n",
    "    markers_per_chr = length // nChr\n",
    "\n",
    "    # Iterate over the range of the genetic map length\n",
    "    for i in range(length):\n",
    "        # Calculate the chromosome number and store it in the chr array\n",
    "        chr[i] = i // markers_per_chr + 1\n",
    "\n",
    "    return chr\n",
    "import jax.numpy as jnp\n",
    "import numpy as np\n",
    "\n",
    "def score_top(scores: pd.DataFrame, column: str, k: int):\n",
    "    # Sort the DataFrame from high to low\n",
    "    sorted_scores = scores.sort_values(by=column, ascending=False)\n",
    "    # Get the top K indexes\n",
    "    top_k_indexes = sorted_scores.head(k).index\n",
    "    return top_k_indexes\n",
    "\n",
    "\n",
    "def score_top_percentile(scores: pd.DataFrame, column: str, percentile_min: float, percentile_max: float, k: int):\n",
    "    # Ensure max percentile is greater than min percentile\n",
    "    assert percentile_max > percentile_min, \"Error: max percentile should be greater than min percentile\"\n",
    "    \n",
    "    # Calculate the percentiles\n",
    "    lower = scores[column].quantile(percentile_min)\n",
    "    upper = scores[column].quantile(percentile_max)\n",
    "    # Filter the DataFrame\n",
    "    filtered_scores = scores[(scores[column] >= lower) & (scores[column] <= upper)]\n",
    "    # Sample k random indexes\n",
    "    sampled_indexes = np.random.choice(filtered_scores.index, k, replace=True)\n",
    "\n",
    "    return sampled_indexes\n"
   ]
  },
  {
   "cell_type": "code",
   "execution_count": 5,
   "metadata": {},
   "outputs": [
    {
     "data": {
      "text/plain": [
       "In addition: Warning message:\n",
       "In (function (package, help, pos = 2, lib.loc = NULL, character.only = FALSE,  :\n",
       "  libraries ‘/usr/local/lib/R/site-library’, ‘/usr/lib/R/site-library’ contain no packages\n"
      ]
     },
     "metadata": {},
     "output_type": "display_data"
    }
   ],
   "source": [
    "%%R\n",
    "x <- seq(0, 2*pi, length.out=50)"
   ]
  },
  {
   "cell_type": "code",
   "execution_count": 6,
   "metadata": {},
   "outputs": [],
   "source": [
    "%R -o x"
   ]
  },
  {
   "cell_type": "code",
   "execution_count": 7,
   "metadata": {},
   "outputs": [
    {
     "data": {
      "text/plain": [
       "array([0.        , 0.12822827, 0.25645654, 0.38468481, 0.51291309,\n",
       "       0.64114136, 0.76936963, 0.8975979 , 1.02582617, 1.15405444,\n",
       "       1.28228272, 1.41051099, 1.53873926, 1.66696753, 1.7951958 ,\n",
       "       1.92342407, 2.05165235, 2.17988062, 2.30810889, 2.43633716,\n",
       "       2.56456543, 2.6927937 , 2.82102197, 2.94925025, 3.07747852,\n",
       "       3.20570679, 3.33393506, 3.46216333, 3.5903916 , 3.71861988,\n",
       "       3.84684815, 3.97507642, 4.10330469, 4.23153296, 4.35976123,\n",
       "       4.48798951, 4.61621778, 4.74444605, 4.87267432, 5.00090259,\n",
       "       5.12913086, 5.25735913, 5.38558741, 5.51381568, 5.64204395,\n",
       "       5.77027222, 5.89850049, 6.02672876, 6.15495704, 6.28318531])"
      ]
     },
     "execution_count": 7,
     "metadata": {},
     "output_type": "execute_result"
    }
   ],
   "source": [
    "x"
   ]
  },
  {
   "cell_type": "code",
   "execution_count": null,
   "metadata": {},
   "outputs": [],
   "source": [
    "# %R install.packages(\"AlphaSimR\")"
   ]
  },
  {
   "cell_type": "code",
   "execution_count": 8,
   "metadata": {},
   "outputs": [
    {
     "data": {
      "text/plain": [
       "Loading required package: R6\n"
      ]
     },
     "metadata": {},
     "output_type": "display_data"
    }
   ],
   "source": [
    "%%R\n",
    "library(\"AlphaSimR\")"
   ]
  },
  {
   "cell_type": "code",
   "execution_count": 9,
   "metadata": {},
   "outputs": [],
   "source": [
    "%%R\n",
    "founderGenomes = runMacs(nInd = 200,\n",
    "                         nChr = 3,\n",
    "                         segSites = 300,\n",
    "                         species = \"MAIZE\")\n",
    "\n",
    "SP = SimParam$new(founderGenomes)\n",
    "SP$addTraitA(300)\n",
    "# SP$setVarE(h2=.02)\n",
    "pop = newPop(founderGenomes, simParam=SP)\n",
    "ans = fastRRBLUP(pop, simParam=SP, useQtl=TRUE, use='gv')\n",
    "ans@gv[[1]]@addEff\n",
    "markerEffects = slot(slot(ans, \"gv\")[[1]], \"addEff\")\n",
    "maizeHaplo = pullSegSiteHaplo(pop)\n",
    "maizeGeno = pullSegSiteGeno(pop)\n",
    "#cm positions of each marker\n",
    "genMap = SP$genMap\n",
    "geneticMap = unlist(genMap)"
   ]
  },
  {
   "cell_type": "code",
   "execution_count": 10,
   "metadata": {},
   "outputs": [],
   "source": [
    "%R -o maizeHaplo\n",
    "%R -o markerEffects\n",
    "%R -o geneticMap"
   ]
  },
  {
   "cell_type": "code",
   "execution_count": 11,
   "metadata": {},
   "outputs": [],
   "source": [
    "num_markers = 300\n",
    "nChr = 3\n",
    "nInd = 500"
   ]
  },
  {
   "cell_type": "code",
   "execution_count": 12,
   "metadata": {},
   "outputs": [
    {
     "name": "stdout",
     "output_type": "stream",
     "text": [
      "(200, 900, 2)\n"
     ]
    }
   ],
   "source": [
    "reshapeHaplo = maizeHaplo.reshape(int((maizeHaplo.shape[0])/2),2,maizeHaplo.shape[1])\n",
    "reshapeHaplo = reshapeHaplo.transpose((0,2,1))\n",
    "print(reshapeHaplo.shape)"
   ]
  },
  {
   "cell_type": "code",
   "execution_count": 13,
   "metadata": {},
   "outputs": [],
   "source": [
    "chr = parse_markerEffects(markerEffects, nChr)\n",
    "trait = markerEffects\n",
    "pos = geneticMap"
   ]
  },
  {
   "cell_type": "code",
   "execution_count": 14,
   "metadata": {},
   "outputs": [
    {
     "data": {
      "text/html": [
       "<div>\n",
       "<style scoped>\n",
       "    .dataframe tbody tr th:only-of-type {\n",
       "        vertical-align: middle;\n",
       "    }\n",
       "\n",
       "    .dataframe tbody tr th {\n",
       "        vertical-align: top;\n",
       "    }\n",
       "\n",
       "    .dataframe thead th {\n",
       "        text-align: right;\n",
       "    }\n",
       "</style>\n",
       "<table border=\"1\" class=\"dataframe\">\n",
       "  <thead>\n",
       "    <tr style=\"text-align: right;\">\n",
       "      <th></th>\n",
       "      <th>CHR.PHYS</th>\n",
       "      <th>Yield</th>\n",
       "      <th>cM</th>\n",
       "    </tr>\n",
       "  </thead>\n",
       "  <tbody>\n",
       "    <tr>\n",
       "      <th>0</th>\n",
       "      <td>1</td>\n",
       "      <td>0.004551</td>\n",
       "      <td>0.000000</td>\n",
       "    </tr>\n",
       "    <tr>\n",
       "      <th>1</th>\n",
       "      <td>1</td>\n",
       "      <td>-0.005243</td>\n",
       "      <td>0.001667</td>\n",
       "    </tr>\n",
       "    <tr>\n",
       "      <th>2</th>\n",
       "      <td>1</td>\n",
       "      <td>-0.003345</td>\n",
       "      <td>0.005103</td>\n",
       "    </tr>\n",
       "    <tr>\n",
       "      <th>3</th>\n",
       "      <td>1</td>\n",
       "      <td>-0.000512</td>\n",
       "      <td>0.006147</td>\n",
       "    </tr>\n",
       "    <tr>\n",
       "      <th>4</th>\n",
       "      <td>1</td>\n",
       "      <td>-0.005466</td>\n",
       "      <td>0.029012</td>\n",
       "    </tr>\n",
       "    <tr>\n",
       "      <th>...</th>\n",
       "      <td>...</td>\n",
       "      <td>...</td>\n",
       "      <td>...</td>\n",
       "    </tr>\n",
       "    <tr>\n",
       "      <th>895</th>\n",
       "      <td>3</td>\n",
       "      <td>0.005793</td>\n",
       "      <td>1.965781</td>\n",
       "    </tr>\n",
       "    <tr>\n",
       "      <th>896</th>\n",
       "      <td>3</td>\n",
       "      <td>-0.007036</td>\n",
       "      <td>1.966579</td>\n",
       "    </tr>\n",
       "    <tr>\n",
       "      <th>897</th>\n",
       "      <td>3</td>\n",
       "      <td>-0.012002</td>\n",
       "      <td>1.983278</td>\n",
       "    </tr>\n",
       "    <tr>\n",
       "      <th>898</th>\n",
       "      <td>3</td>\n",
       "      <td>0.008036</td>\n",
       "      <td>1.984637</td>\n",
       "    </tr>\n",
       "    <tr>\n",
       "      <th>899</th>\n",
       "      <td>3</td>\n",
       "      <td>-0.011048</td>\n",
       "      <td>1.995685</td>\n",
       "    </tr>\n",
       "  </tbody>\n",
       "</table>\n",
       "<p>900 rows × 3 columns</p>\n",
       "</div>"
      ],
      "text/plain": [
       "     CHR.PHYS     Yield        cM\n",
       "0           1  0.004551  0.000000\n",
       "1           1 -0.005243  0.001667\n",
       "2           1 -0.003345  0.005103\n",
       "3           1 -0.000512  0.006147\n",
       "4           1 -0.005466  0.029012\n",
       "..        ...       ...       ...\n",
       "895         3  0.005793  1.965781\n",
       "896         3 -0.007036  1.966579\n",
       "897         3 -0.012002  1.983278\n",
       "898         3  0.008036  1.984637\n",
       "899         3 -0.011048  1.995685\n",
       "\n",
       "[900 rows x 3 columns]"
      ]
     },
     "execution_count": 14,
     "metadata": {},
     "output_type": "execute_result"
    }
   ],
   "source": [
    "import pandas as pd\n",
    "\n",
    "# Assuming chr, trait, pos are your arrays\n",
    "df = pd.DataFrame({'CHR.PHYS': chr, 'Yield': trait, 'cM': pos})\n",
    "df"
   ]
  },
  {
   "cell_type": "code",
   "execution_count": 15,
   "metadata": {},
   "outputs": [],
   "source": [
    "\n",
    "class BreedingProgram:\n",
    "    \"\"\"\n",
    "    A class to represent a breeding program with a PPO agent\n",
    "    \"\"\"\n",
    "    def __init__(self, init_pop, genetic_map ='random', n_pop = 50, n_markers = 75, generation_max=10, nChr=3, h2=.5):\n",
    "\n",
    "        self.n_pop = n_pop\n",
    "        self.n_markers = n_markers\n",
    "\n",
    "        self.initial_population = init_pop\n",
    "        if str(genetic_map)=='random':\n",
    "          self.genetic_map = generate_genetic_map(n_markers=n_markers, n_chromosomes=nChr)\n",
    "        else:\n",
    "          self.genetic_map = genetic_map\n",
    "\n",
    "        self.generation_max = generation_max\n",
    "\n",
    "        self.Simulator = Simulator(genetic_map = self.genetic_map, h2=h2)\n",
    "        self.Simulator.load_population(f'mypop.npy')\n",
    "        self.initial_scores = self.Simulator.GEBV(self.initial_population)\n",
    "        self.envs = self.Simulator.create_environments(1)\n",
    "        self.current_generation = 0\n",
    "\n",
    "        self.history = []\n",
    "\n",
    "        if self.current_generation == 0:\n",
    "            self.current_population = self.initial_population\n",
    "            self.current_scores = self.initial_scores\n",
    "            self.history.append(self.current_scores)\n",
    "\n",
    "        else:\n",
    "            pass\n",
    "\n",
    "        self.current_selections = [] #list of tuples\n",
    "        self.current_scores = []\n",
    "\n",
    "    def write_population(self, filename):\n",
    "        \"\"\"\n",
    "        Write the current population to a file.\n",
    "        \"\"\"\n",
    "        np.save(filename, self.current_population)\n",
    "        return pathlib.PosixPath(f'/content/{filename}')\n",
    "    def cycle(self, method, count=1):\n",
    "      # input : population, method\n",
    "\n",
    "      for i in range(count):\n",
    "        self.cycle_once(method)\n",
    "\n",
    "# phenotyped_scores = Farm.Simulator.phenotype(Farm.current_population)\n",
    "# topInd = Farm.current_population[score_top(phenotyped_scores, column='Yield', k=40)]\n",
    "# midInd = Farm.current_population[score_top_percentile(phenotyped_scores, column='Yield', k = 40, percentile_min=.2, percentile_max=.5)]\n",
    "# np.concatenate((topInd, midInd), axis=0).shape\n",
    "    def cycle_once(self, method):\n",
    "      phenotyped_scores = self.Simulator.phenotype(self.current_population)\n",
    "      if method == 'random':\n",
    "        new_pop = self.Simulator.random_crosses(self.current_population, n_pop)\n",
    "      elif method == 'truncation':\n",
    "        selected_parents = self.current_population[score_top_percentile(phenotyped_scores, column='Yield', k = self.n_pop, percentile_min=.99, percentile_max=1)]\n",
    "        new_pop = self.Simulator.random_crosses(selected_parents, n_pop)\n",
    "      elif method == 'mixed':\n",
    "        topInd = self.current_population[score_top_percentile(phenotyped_scores, column='Yield', k = int(self.n_pop/2), percentile_min=.9, percentile_max=1)]\n",
    "        midInd = self.current_population[score_top_percentile(phenotyped_scores, column='Yield', k = int(self.n_pop/2), percentile_min=.5, percentile_max=.9)]\n",
    "        combined_arr = np.concatenate((topInd, midInd), axis=0)\n",
    "        new_pop = self.Simulator.random_crosses(combined_arr, n_crosses = n_pop, n_offspring=1)\n",
    "      else:\n",
    "        pass\n",
    "      self.current_generation +=1\n",
    "      self.current_population = new_pop\n",
    "      self.current_scores = self.Simulator.GEBV(self.current_population)\n",
    "      self.history.append(self.current_scores)\n",
    "\n",
    "    def reset_history(self):\n",
    "      self.history = []\n",
    "      self.current_generation = 0\n",
    "      self.current_population = self.initial_population\n",
    "      self.current_scores = self.initial_scores\n",
    "      self.history.append(self.current_scores)"
   ]
  },
  {
   "cell_type": "code",
   "execution_count": 16,
   "metadata": {},
   "outputs": [],
   "source": [
    "\n",
    "#create init population + genetic map\n",
    "n_pop = nInd\n",
    "n_markers = num_markers\n"
   ]
  },
  {
   "cell_type": "code",
   "execution_count": null,
   "metadata": {},
   "outputs": [],
   "source": []
  },
  {
   "cell_type": "code",
   "execution_count": 17,
   "metadata": {},
   "outputs": [
    {
     "name": "stderr",
     "output_type": "stream",
     "text": [
      "No GPU/TPU found, falling back to CPU. (Set TF_CPP_MIN_LOG_LEVEL=0 and rerun for more info.)\n"
     ]
    },
    {
     "name": "stdout",
     "output_type": "stream",
     "text": [
      "current pop size: (200, 900, 2)\n",
      "current mean yield : Yield   -0.400138\n",
      "dtype: float32\n"
     ]
    }
   ],
   "source": [
    "np.save('mypop', reshapeHaplo)\n",
    "\n",
    "init_pop = generate_population(n_pop=n_pop, n_markers=n_markers)\n",
    "#create the breeding program\n",
    "Farm = BreedingProgram(reshapeHaplo,genetic_map = df, n_pop=n_pop, n_markers=n_markers)\n",
    "print(f'current pop size: {Farm.current_population.shape}')\n",
    "print(f'current mean yield : {Farm.Simulator.GEBV(Farm.current_population).mean()}')\n",
    "#create the input for the actor model"
   ]
  },
  {
   "cell_type": "code",
   "execution_count": 18,
   "metadata": {},
   "outputs": [],
   "source": [
    "Farm = BreedingProgram(reshapeHaplo,genetic_map = df, n_pop=n_pop, n_markers=n_markers)"
   ]
  },
  {
   "cell_type": "code",
   "execution_count": 19,
   "metadata": {},
   "outputs": [
    {
     "data": {
      "image/png": "[encoded data removed]",
      "text/plain": [
       "<Figure size 640x480 with 1 Axes>"
      ]
     },
     "metadata": {},
     "output_type": "display_data"
    }
   ],
   "source": [
    "replicate_data = []\n",
    "reps=4\n",
    "\n",
    "cycle_total = 10\n",
    "\n",
    "Farm = BreedingProgram(reshapeHaplo,genetic_map = df, n_pop=n_pop, n_markers=n_markers, h2=.93)\n",
    "envs = Farm.Simulator.create_environments(1)\n",
    "\n",
    "for i in (range(reps)):\n",
    "    Farm.cycle(method='mixed', count=cycle_total)\n",
    "    replicate_data.append(Farm.history)\n",
    "    Farm.reset_history()\n",
    "\n",
    "for i in (range(reps)):\n",
    "    Farm.cycle(method='truncation', count=cycle_total)\n",
    "    replicate_data.append(Farm.history)\n",
    "    Farm.reset_history()\n",
    "\n",
    "plot_replicate_means_and_variances(replicate_data)"
   ]
  },
  {
   "cell_type": "code",
   "execution_count": 25,
   "metadata": {},
   "outputs": [
    {
     "data": {
      "text/plain": [
       "(200, 900, 2)"
      ]
     },
     "execution_count": 25,
     "metadata": {},
     "output_type": "execute_result"
    }
   ],
   "source": [
    "Farm.current_population.shape"
   ]
  },
  {
   "cell_type": "code",
   "execution_count": 26,
   "metadata": {},
   "outputs": [],
   "source": [
    "a_reshaped = Farm.current_population.reshape((200,1800))"
   ]
  },
  {
   "cell_type": "code",
   "execution_count": 28,
   "metadata": {},
   "outputs": [
    {
     "data": {
      "text/plain": [
       "(200, 1800)"
      ]
     },
     "execution_count": 28,
     "metadata": {},
     "output_type": "execute_result"
    }
   ],
   "source": [
    "a_reshaped.shape"
   ]
  },
  {
   "cell_type": "code",
   "execution_count": 34,
   "metadata": {},
   "outputs": [],
   "source": [
    "# Define the number of epochs and the learning rate\n",
    "epochs = 10\n",
    "learning_rate = 0.01\n",
    "\n",
    "# Define the policy network\n",
    "inputs = keras.Input(shape=(200, 1800))\n",
    "x = layers.Dense(512, activation='relu')(inputs)\n",
    "x = layers.Dense(256, activation='relu')(x)\n",
    "outputs = layers.Dense(400, activation='softmax')(x)\n",
    "\n",
    "policy_model = keras.Model(inputs=inputs, outputs=outputs)\n",
    "\n",
    "\n",
    "# Define the optimizer\n",
    "optimizer = keras.optimizers.Adam(learning_rate=learning_rate)\n",
    "\n",
    "# Compile the model with the optimizer and a suitable loss function\n",
    "policy_model.compile(optimizer=optimizer, loss='categorical_crossentropy')\n",
    "\n",
    "\n"
   ]
  },
  {
   "cell_type": "code",
   "execution_count": 35,
   "metadata": {},
   "outputs": [
    {
     "name": "stderr",
     "output_type": "stream",
     "text": [
      "2023-12-22 19:30:33.663895: I tensorflow/compiler/xla/service/service.cc:168] XLA service 0x7fdb900093e0 initialized for platform Host (this does not guarantee that XLA will be used). Devices:\n",
      "2023-12-22 19:30:33.663997: I tensorflow/compiler/xla/service/service.cc:176]   StreamExecutor device (0): Host, Default Version\n",
      "2023-12-22 19:30:33.759545: I tensorflow/compiler/mlir/tensorflow/utils/dump_mlir_util.cc:255] disabling MLIR crash reproducer, set env var `MLIR_CRASH_REPRODUCER_DIRECTORY` to enable.\n"
     ]
    },
    {
     "name": "stdout",
     "output_type": "stream",
     "text": [
      "\u001b[1m1/1\u001b[0m \u001b[32m━━━━━━━━━━━━━━━━━━━━\u001b[0m\u001b[37m\u001b[0m \u001b[1m2s\u001b[0m 2s/step\n"
     ]
    },
    {
     "name": "stderr",
     "output_type": "stream",
     "text": [
      "2023-12-22 19:30:34.268591: I ./tensorflow/compiler/jit/device_compiler.h:186] Compiled cluster using XLA!  This line is logged at most once for the lifetime of the process.\n"
     ]
    }
   ],
   "source": [
    "import numpy as np\n",
    "\n",
    "# Create a random example\n",
    "example = np.random.rand(1, 200, 1800)\n",
    "\n",
    "# Send the example through the policy network\n",
    "action_probabilities = policy_model.predict(example)\n"
   ]
  },
  {
   "cell_type": "code",
   "execution_count": 38,
   "metadata": {},
   "outputs": [
    {
     "data": {
      "text/plain": [
       "(200, 400)"
      ]
     },
     "execution_count": 38,
     "metadata": {},
     "output_type": "execute_result"
    }
   ],
   "source": [
    "action_probabilities[0].shape"
   ]
  },
  {
   "cell_type": "code",
   "execution_count": null,
   "metadata": {},
   "outputs": [],
   "source": []
  }
 ],
 "metadata": {
  "kernelspec": {
   "display_name": "Python 3",
   "language": "python",
   "name": "python3"
  },
  "language_info": {
   "codemirror_mode": {
    "name": "ipython",
    "version": 3
   },
   "file_extension": ".py",
   "mimetype": "text/x-python",
   "name": "python",
   "nbconvert_exporter": "python",
   "pygments_lexer": "ipython3",
   "version": "3.8.10"
  }
 },
 "nbformat": 4,
 "nbformat_minor": 2
}
