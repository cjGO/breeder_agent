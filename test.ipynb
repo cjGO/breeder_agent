{
 "cells": [
  {
   "cell_type": "code",
   "execution_count": 1,
   "metadata": {},
   "outputs": [],
   "source": [
    "%load_ext rpy2.ipython"
   ]
  },
  {
   "cell_type": "code",
   "execution_count": 2,
   "metadata": {},
   "outputs": [],
   "source": [
    "from rpy2.robjects.packages import importr\n",
    "import rpy2.robjects as robjects"
   ]
  },
  {
   "cell_type": "code",
   "execution_count": 3,
   "metadata": {},
   "outputs": [
    {
     "name": "stdout",
     "output_type": "stream",
     "text": [
      "Using TensorFlow backend\n"
     ]
    },
    {
     "name": "stderr",
     "output_type": "stream",
     "text": [
      "2023-12-26 13:07:48.140230: I tensorflow/core/util/port.cc:110] oneDNN custom operations are on. You may see slightly different numerical results due to floating-point round-off errors from different computation orders. To turn them off, set the environment variable `TF_ENABLE_ONEDNN_OPTS=0`.\n",
      "2023-12-26 13:07:48.201616: I tensorflow/tsl/cuda/cudart_stub.cc:28] Could not find cuda drivers on your machine, GPU will not be used.\n",
      "2023-12-26 13:07:49.035015: I tensorflow/tsl/cuda/cudart_stub.cc:28] Could not find cuda drivers on your machine, GPU will not be used.\n",
      "2023-12-26 13:07:49.039620: I tensorflow/core/platform/cpu_feature_guard.cc:182] This TensorFlow binary is optimized to use available CPU instructions in performance-critical operations.\n",
      "To enable the following instructions: AVX2 AVX512F AVX512_VNNI FMA, in other operations, rebuild TensorFlow with the appropriate compiler flags.\n",
      "2023-12-26 13:07:50.786953: W tensorflow/compiler/tf2tensorrt/utils/py_utils.cc:38] TF-TRT Warning: Could not find TensorRT\n"
     ]
    }
   ],
   "source": [
    "import keras_core as keras\n",
    "from keras_core import layers\n",
    "\n",
    "import matplotlib.pyplot as plt\n",
    "import numpy as np\n",
    "import pandas as pd\n",
    "from chromax import Simulator, sample_data\n",
    "import pathlib"
   ]
  },
  {
   "cell_type": "code",
   "execution_count": 4,
   "metadata": {},
   "outputs": [],
   "source": [
    "\n",
    "def plot_means_and_variances(dataframes):\n",
    "    # Calculate the mean and variance for each dataframe\n",
    "    mean_values = [df.mean() for df in dataframes]\n",
    "    var_values = [df.var() for df in dataframes]\n",
    "    var_values = np.array(var_values).flatten()\n",
    "    mean_values = np.array(mean_values).flatten()\n",
    "\n",
    "    # Create an array for the x-values\n",
    "    x_values = range(len(dataframes))\n",
    "\n",
    "    # Create the scatter plot with error bars\n",
    "    plt.errorbar(x_values, mean_values, yerr=var_values, fmt='o')\n",
    "\n",
    "    # Display the plot\n",
    "    plt.show()\n",
    "\n",
    "\n",
    "def generate_genetic_map(n_markers, n_chromosomes):\n",
    "  df = pd.DataFrame(generate_marker_effects(n_markers=n_markers), columns=['Yield'])\n",
    "  df['cM'] = np.random.uniform(0, 200, len(df))\n",
    "  df['CHR.PHYS'] = '1A'\n",
    "  df = df.sort_values(by='cM')\n",
    "  df = df[['CHR.PHYS', 'cM', 'Yield']]\n",
    "  # save df as csv under filename\n",
    "  return df\n",
    "\n",
    "def generate_population(n_pop=100, n_markers=500):\n",
    "    \"\"\"\n",
    "    Generate a numpy array of randoms of length 500 with randomized 0, 1, or 2 at each position.\n",
    "    It will generate 100 individuals based on n_pop.\n",
    "\n",
    "    Returns: numpy array of size (n_pop, n_markers)\n",
    "    \"\"\"\n",
    "    shape=(n_pop, n_markers, 2)\n",
    "    # Define the elements to choose from and their associated probabilities\n",
    "    elements = [0, 1, 2]\n",
    "    probabilities = [1/3, 1/3, 1/3]  # equal probabilities for 0, 1, and 2\n",
    "\n",
    "    # Generate the population\n",
    "    population = np.random.choice(elements, size=(n_pop, n_markers), p=probabilities)\n",
    "\n",
    "    return np.random.choice([True, False], size=shape)\n",
    "\n",
    "\n",
    "def generate_marker_effects(n_markers=500, mu=0, sigma=0.1):\n",
    "    \"\"\"\n",
    "    Generate a numpy array of marker effects with a normal distribution.\n",
    "\n",
    "    Parameters:\n",
    "    n_markers (int): Number of markers.\n",
    "    mu (float): Mean of the distribution.\n",
    "    sigma (float): Standard deviation of the distribution.\n",
    "\n",
    "    Returns:\n",
    "    numpy array of marker effects\n",
    "    \"\"\"\n",
    "\n",
    "    # Generate the marker effects\n",
    "    marker_effects = np.random.normal(mu, sigma, n_markers)\n",
    "\n",
    "    return marker_effects\n",
    "\n",
    "import numpy as np\n",
    "\n",
    "def select_random_individuals(arr, num_individuals):\n",
    "    # Get the shape of the array\n",
    "    shape = arr.shape\n",
    "\n",
    "    # Generate random indices along the first axis\n",
    "    idx = np.random.choice(shape[0], size=num_individuals)\n",
    "\n",
    "    # Select the random individuals\n",
    "\n",
    "    return random_individuals\n",
    "\n",
    "def select_mixed(population, random_split=.99):\n",
    "  n_pop = population.shape[0]\n",
    "\n",
    "  n_random = int(n_pop * random_split)\n",
    "  n_select = int(n_pop * (1-random_split))\n",
    "\n",
    "  random_parents = select_random_individuals(Farm.current_population, n_random)\n",
    "  selected_parents = Farm.Simulator.select(Farm.current_population, k = n_select)\n",
    "  combined_arr = np.concatenate((random_parents, selected_parents), axis=0)\n",
    "  return combined_arr\n",
    "\n",
    "def plot_replicate_means_and_variances(replicate_data, start_index=None, end_index=None):\n",
    "    # Create a new figure and axes\n",
    "    fig, ax = plt.subplots()\n",
    "\n",
    "    # If start_index or end_index is not provided, set them to default values\n",
    "    if start_index is None:\n",
    "        start_index = 0\n",
    "    if end_index is None:\n",
    "        end_index = len(replicate_data[0])\n",
    "\n",
    "    # For each list of dataframes in replicate_data\n",
    "    for i, dataframes in enumerate(replicate_data):\n",
    "        # Select the dataframes in the specified range\n",
    "        dataframes = dataframes[start_index:end_index]\n",
    "\n",
    "        # Calculate the mean and variance for each dataframe\n",
    "        mean_values = [df.mean() for df in dataframes]\n",
    "        var_values = [df.var() for df in dataframes]\n",
    "\n",
    "        # Flatten the var_values and mean_values lists to 1D arrays\n",
    "        var_values = np.array(var_values).flatten()\n",
    "        mean_values = np.array(mean_values).flatten()\n",
    "\n",
    "        # Create an array for the x-values\n",
    "        x_values = range(len(dataframes))\n",
    "\n",
    "        # Plot the means with error bars for the variances\n",
    "        ax.errorbar(x_values, mean_values, yerr=var_values, fmt='o', label=f'Replicate {i+1}')\n",
    "\n",
    "    # Add a legend\n",
    "    ax.legend()\n",
    "\n",
    "    # Display the plot\n",
    "    plt.show()\n",
    "\n",
    "\n",
    "def plot_replicate_means(replicate_data):\n",
    "    # Create a new figure and axes\n",
    "    fig, ax = plt.subplots()\n",
    "\n",
    "    # For each list of dataframes in replicate_data\n",
    "    for i, dataframes in enumerate(replicate_data):\n",
    "        # Calculate the mean for each dataframe\n",
    "        mean_values = [df.mean() for df in dataframes]\n",
    "        # Flatten the mean_values list to a 1D array\n",
    "        mean_values = np.array(mean_values).flatten()\n",
    "\n",
    "        # Create an array for the x-values\n",
    "        x_values = range(len(dataframes))\n",
    "\n",
    "        # Plot the means as a line plot\n",
    "        ax.plot(x_values, mean_values, label=f'Replicate {i+1}')\n",
    "\n",
    "    # Add a legend\n",
    "    ax.legend()\n",
    "\n",
    "    # Display the plot\n",
    "    plt.show()\n",
    "\n",
    "def parse_markerEffects(genetic_map, nChr):\n",
    "    # Get the length of the genetic map\n",
    "    length = len(genetic_map)\n",
    "\n",
    "    # Create a new array for storing the chromosome number for each marker\n",
    "    chr = [0] * length\n",
    "\n",
    "    # Calculate the number of markers per chromosome\n",
    "    markers_per_chr = length // nChr\n",
    "\n",
    "    # Iterate over the range of the genetic map length\n",
    "    for i in range(length):\n",
    "        # Calculate the chromosome number and store it in the chr array\n",
    "        chr[i] = i // markers_per_chr + 1\n",
    "\n",
    "    return chr\n",
    "import jax.numpy as jnp\n",
    "import numpy as np\n",
    "\n",
    "def score_top(scores: pd.DataFrame, column: str, k: int):\n",
    "    # Sort the DataFrame from high to low\n",
    "    sorted_scores = scores.sort_values(by=column, ascending=False)\n",
    "    # Get the top K indexes\n",
    "    top_k_indexes = sorted_scores.head(k).index\n",
    "    return top_k_indexes\n",
    "\n",
    "\n",
    "def score_top_percentile(scores: pd.DataFrame, column: str, percentile_min: float, percentile_max: float, k: int):\n",
    "    # Ensure max percentile is greater than min percentile\n",
    "    assert percentile_max > percentile_min, \"Error: max percentile should be greater than min percentile\"\n",
    "    \n",
    "    # Calculate the percentiles\n",
    "    lower = scores[column].quantile(percentile_min)\n",
    "    upper = scores[column].quantile(percentile_max)\n",
    "    # Filter the DataFrame\n",
    "    filtered_scores = scores[(scores[column] >= lower) & (scores[column] <= upper)]\n",
    "    # Sample k random indexes\n",
    "    sampled_indexes = np.random.choice(filtered_scores.index, k, replace=True)\n",
    "\n",
    "    return sampled_indexes\n",
    "\n",
    "def reshape_pop(maizeHaplo):\n",
    "    reshapeHaplo = maizeHaplo.reshape(int((maizeHaplo.shape[0])/2),2,maizeHaplo.shape[1])\n",
    "    reshapeHaplo = reshapeHaplo.transpose((0,2,1))\n",
    "    return reshapeHaplo\n",
    "\n",
    "def return_genetic_map_df(markerEffects, nChr, geneticMap):\n",
    "    chr = parse_markerEffects(markerEffects, nChr)\n",
    "    chr = [int(x[0]) for x in chr]\n",
    "    trait = markerEffects\n",
    "    pos = geneticMap\n",
    "    # Assuming chr, trait, pos are your arrays\n",
    "    df = pd.DataFrame({'CHR.PHYS': chr, 'Yield': trait, 'cM': pos})\n",
    "    return df\n",
    "\n"
   ]
  },
  {
   "cell_type": "code",
   "execution_count": 5,
   "metadata": {},
   "outputs": [
    {
     "data": {
      "text/plain": [
       "In addition: Warning message:\n",
       "In (function (package, help, pos = 2, lib.loc = NULL, character.only = FALSE,  :\n",
       "  libraries ‘/usr/local/lib/R/site-library’, ‘/usr/lib/R/site-library’ contain no packages\n"
      ]
     },
     "metadata": {},
     "output_type": "display_data"
    }
   ],
   "source": [
    "%%R\n",
    "x <- seq(0, 2*pi, length.out=50)"
   ]
  },
  {
   "cell_type": "code",
   "execution_count": 6,
   "metadata": {},
   "outputs": [],
   "source": [
    "%R -o x"
   ]
  },
  {
   "cell_type": "code",
   "execution_count": 7,
   "metadata": {},
   "outputs": [
    {
     "data": {
      "text/plain": [
       "array([0.        , 0.12822827, 0.25645654, 0.38468481, 0.51291309,\n",
       "       0.64114136, 0.76936963, 0.8975979 , 1.02582617, 1.15405444,\n",
       "       1.28228272, 1.41051099, 1.53873926, 1.66696753, 1.7951958 ,\n",
       "       1.92342407, 2.05165235, 2.17988062, 2.30810889, 2.43633716,\n",
       "       2.56456543, 2.6927937 , 2.82102197, 2.94925025, 3.07747852,\n",
       "       3.20570679, 3.33393506, 3.46216333, 3.5903916 , 3.71861988,\n",
       "       3.84684815, 3.97507642, 4.10330469, 4.23153296, 4.35976123,\n",
       "       4.48798951, 4.61621778, 4.74444605, 4.87267432, 5.00090259,\n",
       "       5.12913086, 5.25735913, 5.38558741, 5.51381568, 5.64204395,\n",
       "       5.77027222, 5.89850049, 6.02672876, 6.15495704, 6.28318531])"
      ]
     },
     "execution_count": 7,
     "metadata": {},
     "output_type": "execute_result"
    }
   ],
   "source": [
    "x"
   ]
  },
  {
   "cell_type": "code",
   "execution_count": 8,
   "metadata": {},
   "outputs": [],
   "source": [
    "# %R install.packages(\"AlphaSimR\")"
   ]
  },
  {
   "cell_type": "code",
   "execution_count": 9,
   "metadata": {},
   "outputs": [
    {
     "data": {
      "text/plain": [
       "Loading required package: R6\n"
      ]
     },
     "metadata": {},
     "output_type": "display_data"
    }
   ],
   "source": [
    "%%R\n",
    "library(\"AlphaSimR\")"
   ]
  },
  {
   "cell_type": "code",
   "execution_count": 10,
   "metadata": {},
   "outputs": [],
   "source": [
    "%%R\n",
    "nInd = 50\n",
    "nChr = 3\n",
    "segSites = 10\n",
    "\n",
    "founderGenomes = runMacs(nInd = nInd,\n",
    "                         nChr = nChr,\n",
    "                         segSites = segSites,\n",
    "                         species = \"MAIZE\")\n"
   ]
  },
  {
   "cell_type": "code",
   "execution_count": 11,
   "metadata": {},
   "outputs": [],
   "source": [
    "%%R\n",
    "SP = SimParam$new(founderGenomes)\n",
    "SP$addTraitA(segSites)\n",
    "# SP$setVarE(h2=.02)\n",
    "pop = newPop(founderGenomes, simParam=SP)\n",
    "ans = fastRRBLUP(pop, simParam=SP, useQtl=TRUE, use='gv')\n",
    "ans@gv[[1]]@addEff\n",
    "markerEffects = slot(slot(ans, \"gv\")[[1]], \"addEff\")\n",
    "maizeHaplo = pullSegSiteHaplo(pop)\n",
    "maizeGeno = pullSegSiteGeno(pop)\n",
    "#cm positions of each marker\n",
    "genMap = SP$genMap\n",
    "geneticMap = unlist(genMap)"
   ]
  },
  {
   "cell_type": "code",
   "execution_count": 12,
   "metadata": {},
   "outputs": [],
   "source": [
    "%R -o maizeHaplo\n",
    "%R -o maizeGeno\n",
    "%R -o markerEffects\n",
    "%R -o geneticMap\n",
    "%R -o nInd\n",
    "%R -o nChr\n",
    "%R -o segSites"
   ]
  },
  {
   "cell_type": "code",
   "execution_count": 299,
   "metadata": {},
   "outputs": [
    {
     "data": {
      "text/plain": [
       "(100, 30)"
      ]
     },
     "execution_count": 299,
     "metadata": {},
     "output_type": "execute_result"
    }
   ],
   "source": [
    "maizeHaplo.shape"
   ]
  },
  {
   "cell_type": "code",
   "execution_count": 300,
   "metadata": {},
   "outputs": [
    {
     "data": {
      "text/plain": [
       "(50, 30)"
      ]
     },
     "execution_count": 300,
     "metadata": {},
     "output_type": "execute_result"
    }
   ],
   "source": [
    "maizeGeno.shape"
   ]
  },
  {
   "cell_type": "code",
   "execution_count": 20,
   "metadata": {},
   "outputs": [
    {
     "name": "stdout",
     "output_type": "stream",
     "text": [
      "reshape haplo (50, 30, 2)\n"
     ]
    }
   ],
   "source": [
    "# class BreedingProgram:\n",
    "#     \"\"\"\n",
    "#     Represents a breeding program with a PPO agent.\n",
    "#     \"\"\"\n",
    "\n",
    "#     def __init__(self, initial_population, genetic_map, population_size, marker_count, chromosome_number, max_generation, heritability):\n",
    "#         \"\"\"\n",
    "#         Initializes the breeding program.\n",
    "#         \"\"\"\n",
    "\n",
    "#         # Initialize the basic attributes\n",
    "#         self.population_size = population_size\n",
    "#         self.marker_count = marker_count\n",
    "#         self.initial_population = initial_population\n",
    "#         self.genetic_map = genetic_map\n",
    "#         self.max_generation = max_generation\n",
    "\n",
    "#         # Initialize the simulator\n",
    "#         self.simulator = Simulator(genetic_map=self.genetic_map, h2=heritability)\n",
    "#         self.simulator.load_population('mypop.npy')\n",
    "\n",
    "#         # Initialize the current generation and history\n",
    "#         self.current_generation = 0\n",
    "#         self.history = []\n",
    "\n",
    "#         # Start the breeding program\n",
    "#         self._start_breeding_program()\n",
    "        \n",
    "#     def _start_breeding_program(self):\n",
    "#         \"\"\"\n",
    "#         Starts the breeding program.\n",
    "#         \"\"\"\n",
    "#         self.current_population = self.initial_population\n",
    "#         self.current_scores = self.simulator.GEBV(reshape_pop(self.initial_population))\n",
    "#         self.history.append(self.current_scores)\n",
    "\n",
    "\n",
    "\n",
    "\n",
    "\n",
    "# initial_population = maizeGeno \n",
    "# genetic_map = return_genetic_map_df(markerEffects, nChr, geneticMap)\n",
    "# reshapeHaplo = reshape_pop(maizeHaplo)\n",
    "# np.save('mypop', reshapeHaplo)\n",
    "# print(f'reshape haplo {reshapeHaplo.shape}')\n",
    "\n",
    "\n",
    "# population_size = int(nInd)\n",
    "# marker_count = int((segSites * nChr))\n",
    "# chromosome_number = int(nChr)\n",
    "# generation_max = 10\n",
    "# heritability = .5\n",
    "\n",
    "# farm = BreedingProgram(initial_population, genetic_map, population_size, marker_count, chromosome_number, generation_max, heritability)"
   ]
  },
  {
   "cell_type": "code",
   "execution_count": 26,
   "metadata": {},
   "outputs": [
    {
     "name": "stdout",
     "output_type": "stream",
     "text": [
      "reshape haplo (50, 30, 2)\n"
     ]
    }
   ],
   "source": [
    "class BreedingProgram:\n",
    "    \"\"\"\n",
    "    Represents a breeding program with a PPO agent.\n",
    "    \"\"\"\n",
    "\n",
    "    def __init__(self, initial_population, genetic_map, population_size, marker_count, chromosome_number, max_generation, heritability):\n",
    "        \"\"\"\n",
    "        Initializes the breeding program.\n",
    "        \"\"\"\n",
    "\n",
    "        # Initialize the basic attributes\n",
    "        self.population_size = population_size\n",
    "        self.marker_count = marker_count\n",
    "        self.initial_population = initial_population\n",
    "        self.genetic_map = genetic_map\n",
    "        self.max_generation = max_generation\n",
    "\n",
    "        # Initialize the simulator\n",
    "        self.simulator = Simulator(genetic_map=self.genetic_map, h2=heritability)\n",
    "        self.simulator.load_population('mypop.npy')\n",
    "\n",
    "        # Initialize the current generation and history\n",
    "        self.current_generation = 0\n",
    "        self.history = []\n",
    "\n",
    "        # Start the breeding program\n",
    "        self._start_breeding_program()\n",
    "        \n",
    "    def _start_breeding_program(self):\n",
    "        \"\"\"\n",
    "        Starts the breeding program.\n",
    "        \"\"\"\n",
    "        self.current_population = self.initial_population\n",
    "        self.current_scores = self.simulator.GEBV(self.initial_population)\n",
    "        self.history.append(self.current_scores)\n",
    "\n",
    "\n",
    "\n",
    "\n",
    "\n",
    "initial_population =  reshape_pop(maizeHaplo) \n",
    "genetic_map = return_genetic_map_df(markerEffects, nChr, geneticMap)\n",
    "reshapeHaplo = reshape_pop(maizeHaplo)\n",
    "np.save('mypop', reshapeHaplo)\n",
    "print(f'reshape haplo {reshapeHaplo.shape}')\n",
    "\n",
    "\n",
    "population_size = int(nInd)\n",
    "marker_count = int((segSites * nChr))\n",
    "chromosome_number = int(nChr)\n",
    "generation_max = 10\n",
    "heritability = .5\n",
    "\n",
    "farm = BreedingProgram(initial_population, genetic_map, population_size, marker_count, chromosome_number, generation_max, heritability)"
   ]
  },
  {
   "cell_type": "code",
   "execution_count": 28,
   "metadata": {},
   "outputs": [],
   "source": [
    "mysim =  Simulator(genetic_map=genetic_map, h2=.5)"
   ]
  },
  {
   "cell_type": "code",
   "execution_count": 38,
   "metadata": {},
   "outputs": [
    {
     "name": "stdout",
     "output_type": "stream",
     "text": [
      "1/1 [==============================] - 0s 43ms/step\n",
      "actor model output : (15, 100, 50)\n",
      "example population shape, single sample : (15, 50, 30, 2)\n",
      "1/1 [==============================] - 0s 51ms/step\n",
      "critic model output: (15, 50)\n",
      "[-0.05077408  0.13434336  0.3648505   0.11040109  0.39141136]\n"
     ]
    }
   ],
   "source": [
    "from tensorflow import keras\n",
    "from tensorflow.keras.layers import Dense, Input, Flatten, Reshape\n",
    "\n",
    "#create init population + genetic map\n",
    "n = int(nInd)\n",
    "m = int((segSites * nChr))\n",
    "d = 2\n",
    "total_parents = 100\n",
    "\n",
    "# Define the actor model\n",
    "actor_input = keras.layers.Input(shape=(n, m, d))\n",
    "x = Flatten()(actor_input)\n",
    "x = Dense(64, activation='relu')(x)\n",
    "x = Dense(64, activation='relu')(x)\n",
    "x = Dense(n * total_parents, activation='linear')(x)\n",
    "x = Reshape((total_parents, n))(x)\n",
    "actor_output = keras.layers.Softmax(axis=-1)(x)\n",
    "actor_model = keras.models.Model(actor_input, actor_output)\n",
    "actor_model.compile(optimizer='adam', loss='categorical_crossentropy')\n",
    "\n",
    "# Define the critic model\n",
    "critic_input1 = keras.layers.Input(shape=(n, m, d))\n",
    "critic_input2 = keras.layers.Input(shape=(total_parents, n))\n",
    "\n",
    "x1 = Flatten()(critic_input1)\n",
    "x1 = Dense(64, activation='relu')(x1)\n",
    "\n",
    "x2 = Flatten()(critic_input2)\n",
    "x2 = Dense(64, activation='relu')(x2)\n",
    "\n",
    "combined = keras.layers.concatenate([x1, x2])\n",
    "\n",
    "x3 = Dense(64, activation='relu')(combined)\n",
    "critic_output = Dense(n, activation='linear')(x3)\n",
    "\n",
    "critic_model = keras.models.Model([critic_input1, critic_input2], critic_output)\n",
    "critic_model.compile(optimizer='adam', loss='mse')\n",
    "\n",
    "# dummy input\n",
    "\n",
    "# Create a random example\n",
    "example_population = np.random.rand(15, n, m, d)\n",
    "# Send the example through the actor network\n",
    "actor_output = actor_model.predict(example_population)\n",
    "print(f'actor model output : {actor_output.shape}')\n",
    "print(f'example population shape, single sample : {example_population.shape}')\n",
    "\n",
    "# Predict\n",
    "critic_output = critic_model.predict([ example_population, actor_output])\n",
    "\n",
    "# Print the output\n",
    "print(f'critic model output: {critic_output.shape}')\n",
    "print(critic_output[0][0:5])"
   ]
  },
  {
   "cell_type": "code",
   "execution_count": null,
   "metadata": {},
   "outputs": [],
   "source": [
    "# get parents + make crosses"
   ]
  },
  {
   "cell_type": "code",
   "execution_count": 39,
   "metadata": {},
   "outputs": [
    {
     "name": "stdout",
     "output_type": "stream",
     "text": [
      "(50,)\n",
      "(100,)\n"
     ]
    }
   ],
   "source": [
    "mid = actor_output[0,0,:]\n",
    "lat = actor_output[0,:,0]\n",
    "print(mid.shape)\n",
    "print(lat.shape)"
   ]
  },
  {
   "cell_type": "code",
   "execution_count": null,
   "metadata": {},
   "outputs": [],
   "source": [
    "# Next steps\n",
    "# 1) Given the output from actor model -> for each pair grab the parents -> use chromax to simulate offspring -> generate new population\n",
    "# 2 ) probably calculate fitness / loss from the prediction from critic model\n",
    "# ...\n",
    "# 4 ) write training loop"
   ]
  },
  {
   "cell_type": "code",
   "execution_count": null,
   "metadata": {},
   "outputs": [],
   "source": [
    "# must decide how to format/process the output consistent\n",
    "# we get 100 lists of 50 values.\n",
    "# each value is probability of selecting that index for the selected parent for that pair\n",
    "# pair parents is index 1/2, 3/4, 5/6 , ...\n",
    "# if same parent in both slot 1/2 then we will do DH line?\n",
    "\n"
   ]
  },
  {
   "cell_type": "code",
   "execution_count": 40,
   "metadata": {},
   "outputs": [],
   "source": [
    "import matplotlib.pyplot as plt\n",
    "\n",
    "def plot_histogram(ax, probabilities, label=None, color=None):\n",
    "    ax.hist(probabilities, bins='auto', density=True, alpha=0.5, label=label, color=color)\n",
    "    ax.set_title('Probability Distribution')\n",
    "    ax.set_xlabel('Probability')\n",
    "    ax.set_ylabel('Frequency')\n",
    "\n",
    "def plot_bar(ax, probabilities, label=None, color=None):\n",
    "    indices = range(len(probabilities))\n",
    "    ax.bar(indices, probabilities, alpha=0.5, label=label, color=color)\n",
    "    ax.set_title('Probability per Index')\n",
    "    ax.set_xlabel('Index')\n",
    "    ax.set_ylabel('Probability')\n",
    "\n",
    "def plot_probabilities(probabilities1, probabilities2):\n",
    "    # Create subplots: 1 row, 2 columns\n",
    "    fig, axs = plt.subplots(1, 2, figsize=(10, 5))\n",
    "\n",
    "    # Call the plot functions for the first set of probabilities\n",
    "    plot_histogram(axs[0], probabilities1, label='Probabilities 1', color='blue')\n",
    "    plot_bar(axs[1], probabilities1, label='Probabilities 1', color='blue')\n",
    "\n",
    "    # Call the plot functions for the second set of probabilities\n",
    "    plot_histogram(axs[0], probabilities2, label='Probabilities 2', color='red')\n",
    "    plot_bar(axs[1], probabilities2, label='Probabilities 2', color='red')\n",
    "\n",
    "    # Add legends\n",
    "    axs[0].legend(loc='upper right')\n",
    "    axs[1].legend(loc='upper right')\n",
    "\n",
    "    # Display the plots\n",
    "    plt.tight_layout()  # Adjusts subplot params so that subplots fit in the figure area\n",
    "    plt.show()\n"
   ]
  },
  {
   "cell_type": "code",
   "execution_count": 41,
   "metadata": {},
   "outputs": [
    {
     "data": {
      "image/png": "[encoded data removed]",
      "text/plain": [
       "<Figure size 1000x500 with 2 Axes>"
      ]
     },
     "metadata": {},
     "output_type": "display_data"
    }
   ],
   "source": [
    "plot_probabilities(actor_output[:,0,:][0], actor_output[:,1,:][0])"
   ]
  },
  {
   "cell_type": "code",
   "execution_count": 42,
   "metadata": {},
   "outputs": [],
   "source": [
    "def select_parent(probabilities):\n",
    "    indices = np.arange(len(probabilities))  # Create an array of indices\n",
    "    sampled_index = np.random.choice(indices, p=probabilities)  # Sample an index based on the probabilities\n",
    "    return sampled_index\n",
    "\n",
    "selected_pairs = [select_parent(x) for x in actor_output[0,:,:]]\n",
    "index_pairs = list(zip(selected_pairs[::2], selected_pairs[1::2]))"
   ]
  },
  {
   "cell_type": "code",
   "execution_count": 45,
   "metadata": {},
   "outputs": [
    {
     "name": "stdout",
     "output_type": "stream",
     "text": [
      "(100, 50)\n",
      "100\n",
      "[1, 2, 39, 45, 14]\n"
     ]
    }
   ],
   "source": [
    "print(actor_output[0,:,:].shape) # 50, 100\n",
    "#go to 100 indexes\n",
    "selected_pairs = [select_parent(x) for x in actor_output[0,:,:]]\n",
    "print(len(selected_pairs)) # 50\n",
    "print(selected_pairs[:5])"
   ]
  },
  {
   "cell_type": "code",
   "execution_count": 44,
   "metadata": {},
   "outputs": [
    {
     "data": {
      "text/plain": [
       "(50, 30, 2)"
      ]
     },
     "execution_count": 44,
     "metadata": {},
     "output_type": "execute_result"
    }
   ],
   "source": [
    "farm.current_population.shape"
   ]
  },
  {
   "cell_type": "code",
   "execution_count": 245,
   "metadata": {},
   "outputs": [],
   "source": [
    "# 1. find where the population array still has its diploidy channel\n",
    "# 2. then use index to grab parents\n",
    "# 3. pass to chromax for making next gen\n"
   ]
  },
  {
   "cell_type": "code",
   "execution_count": 46,
   "metadata": {},
   "outputs": [
    {
     "name": "stdout",
     "output_type": "stream",
     "text": [
      "(50, 2)\n",
      "[[ 1  2]\n",
      " [39 45]\n",
      " [14  0]\n",
      " [19 37]\n",
      " [16  3]]\n"
     ]
    }
   ],
   "source": [
    "selected_array = np.array([selected_pairs[i:i+2] for i in range(0, len(selected_pairs), 2)])\n",
    "print(selected_array.shape)\n",
    "print(selected_array[:5])"
   ]
  },
  {
   "cell_type": "code",
   "execution_count": 47,
   "metadata": {},
   "outputs": [
    {
     "data": {
      "text/plain": [
       "(50, 2, 30, 2)"
      ]
     },
     "execution_count": 47,
     "metadata": {},
     "output_type": "execute_result"
    }
   ],
   "source": [
    "farm.current_population[selected_array].shape"
   ]
  },
  {
   "cell_type": "code",
   "execution_count": 48,
   "metadata": {},
   "outputs": [
    {
     "data": {
      "text/plain": [
       "Array([[[0, 0],\n",
       "        [0, 0],\n",
       "        [0, 0],\n",
       "        ...,\n",
       "        [0, 0],\n",
       "        [0, 1],\n",
       "        [0, 1]],\n",
       "\n",
       "       [[0, 0],\n",
       "        [0, 0],\n",
       "        [0, 0],\n",
       "        ...,\n",
       "        [1, 0],\n",
       "        [0, 1],\n",
       "        [0, 0]],\n",
       "\n",
       "       [[0, 1],\n",
       "        [0, 0],\n",
       "        [0, 0],\n",
       "        ...,\n",
       "        [0, 0],\n",
       "        [1, 0],\n",
       "        [0, 0]],\n",
       "\n",
       "       ...,\n",
       "\n",
       "       [[1, 1],\n",
       "        [0, 0],\n",
       "        [0, 0],\n",
       "        ...,\n",
       "        [0, 0],\n",
       "        [0, 0],\n",
       "        [0, 0]],\n",
       "\n",
       "       [[0, 0],\n",
       "        [1, 0],\n",
       "        [0, 0],\n",
       "        ...,\n",
       "        [0, 0],\n",
       "        [0, 0],\n",
       "        [0, 0]],\n",
       "\n",
       "       [[0, 0],\n",
       "        [1, 0],\n",
       "        [0, 0],\n",
       "        ...,\n",
       "        [0, 0],\n",
       "        [0, 1],\n",
       "        [0, 0]]], dtype=int32)"
      ]
     },
     "execution_count": 48,
     "metadata": {},
     "output_type": "execute_result"
    }
   ],
   "source": [
    "farm.simulator.cross(farm.current_population[selected_array])"
   ]
  },
  {
   "cell_type": "code",
   "execution_count": null,
   "metadata": {},
   "outputs": [],
   "source": []
  }
 ],
 "metadata": {
  "kernelspec": {
   "display_name": "Python 3",
   "language": "python",
   "name": "python3"
  },
  "language_info": {
   "codemirror_mode": {
    "name": "ipython",
    "version": 3
   },
   "file_extension": ".py",
   "mimetype": "text/x-python",
   "name": "python",
   "nbconvert_exporter": "python",
   "pygments_lexer": "ipython3",
   "version": "3.8.10"
  }
 },
 "nbformat": 4,
 "nbformat_minor": 2
}
