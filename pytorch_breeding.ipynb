{
 "cells": [
  {
   "cell_type": "code",
   "execution_count": 1,
   "metadata": {},
   "outputs": [],
   "source": [
    "import torch\n",
    "from typing import Tuple\n",
    "import numpy as np\n",
    "import pandas as pd"
   ]
  },
  {
   "cell_type": "code",
   "execution_count": 2,
   "metadata": {},
   "outputs": [],
   "source": [
    "def generate_population(num_populations: int, num_individuals: int, num_markers: int, ploidy: int) -> torch.Tensor:\n",
    "    \"\"\"\n",
    "    Generate a population tensor for plant breeding.\n",
    "\n",
    "    Parameters:\n",
    "    num_populations (int): The number of populations.\n",
    "    num_individuals (int): The number of individuals per population.\n",
    "    num_markers (int): The number of genetic markers.\n",
    "    ploidy (int): The ploidy level of the plants (e.g., diploid, haploid).\n",
    "\n",
    "    Returns:\n",
    "    torch.Tensor: A tensor of shape (num_populations, num_individuals, num_markers, ploidy)\n",
    "                  with binary values representing the genetic makeup.\n",
    "    \"\"\"\n",
    "    population_tensor = torch.randint(2, (num_populations, num_individuals, num_markers, ploidy), dtype=torch.int8)\n",
    "    return population_tensor\n",
    "\n",
    "\n",
    "# Example test\n",
    "num_populations = 3\n",
    "num_individuals = 50\n",
    "num_markers = 100\n",
    "ploidy = 2\n",
    "\n",
    "test_tensor = generate_population(num_populations, num_individuals, num_markers, ploidy)\n",
    "assert test_tensor.shape == (num_populations, num_individuals, num_markers, ploidy)\n",
    "assert test_tensor.dtype == torch.int8\n",
    "assert test_tensor.ge(0).all() and test_tensor.le(1).all(), \"Tensor should only contain 0s and 1s\""
   ]
  },
  {
   "cell_type": "code",
   "execution_count": 3,
   "metadata": {},
   "outputs": [],
   "source": [
    "def generate_map(number_markers:int):\n",
    "    \"\"\"The genetic map represents the rules of the game. It assigns the truth value to each marker.\n",
    "\n",
    "    :param number_markers: the total number of markers to include in this genetic map. must correspond to population shape\n",
    "    :type number_markers: int \n",
    "    \"\"\"\n",
    "    # 'chr' will always be '1A' for every marker\n",
    "    chr_array = ['1A'] * number_markers\n",
    "    \n",
    "    # 'yield': Create a marker_strength array with 1 float between -0.5 and +0.5 randomly\n",
    "    # yield_array = np.random.poisson(np.random.randint(1,10), size=number_markers)\n",
    "    poisson_values = np.random.poisson(np.random.randint(1, 10), size=number_markers)\n",
    "\n",
    "    # Scale the Poisson values to the range [0, 1]\n",
    "    scaled_poisson_values = poisson_values / np.max(poisson_values)\n",
    "\n",
    "    # Stretch and shift the values to the range [-1, 1]\n",
    "    yield_array = (scaled_poisson_values * 2) - 1\n",
    "    \n",
    "    # 'cM': create an array for number_markers length evenly sampled between 0 and 100\n",
    "    cM_array = np.linspace(0, 100, num=number_markers)\n",
    "    \n",
    "    # Create the DataFrame with the auto-generated data\n",
    "    df = pd.DataFrame({'CHR.PHYS': chr_array, 'Yield': yield_array, 'cM': cM_array*.01})\n",
    "    \n",
    "    return df\n",
    "\n",
    "num_markers = 100\n",
    "map = generate_map(num_markers)"
   ]
  },
  {
   "cell_type": "code",
   "execution_count": 4,
   "metadata": {},
   "outputs": [],
   "source": [
    "def generate_scores(test_pop: torch.Tensor, test_map: pd.DataFrame) -> torch.Tensor:\n",
    "    \"\"\"\n",
    "    Generate scores for each individual in each population based on the genetic markers and yield values.\n",
    "\n",
    "    Parameters:\n",
    "    test_pop (torch.Tensor): A tensor representing the population with shape (num_populations, num_individuals, num_markers, ploidy).\n",
    "    test_map (pd.DataFrame): A DataFrame containing the 'Yield' values for each marker.\n",
    "\n",
    "    Returns:\n",
    "    torch.Tensor: A tensor of shape (num_populations, num_individuals) representing the scores of each individual.\n",
    "    \"\"\"\n",
    "    # Sum the binary ploidy axes for each individual\n",
    "    summed_ploidy = test_pop.sum(dim=-1)\n",
    "    \n",
    "    # Convert test_map['Yield'] to a tensor and perform matrix multiplication\n",
    "    yield_values = torch.tensor(test_map['Yield'].values, dtype=torch.float32)\n",
    "    scores = torch.matmul(summed_ploidy.float(), yield_values)\n",
    "    \n",
    "    return scores"
   ]
  },
  {
   "cell_type": "code",
   "execution_count": 5,
   "metadata": {},
   "outputs": [],
   "source": [
    "import torch\n",
    "\n",
    "def get_top_indices(scores: torch.Tensor, top_x: int) -> torch.Tensor:\n",
    "    \"\"\"\n",
    "    Get the indices of the top X scores for each population.\n",
    "\n",
    "    Parameters:\n",
    "    scores (torch.Tensor): A tensor of shape (num_populations, num_individuals) representing the scores of each individual.\n",
    "    top_x (int): The number of top indices to return for each population.\n",
    "\n",
    "    Returns:\n",
    "    torch.Tensor: A tensor containing the indices of the top X scores for each population.\n",
    "    \"\"\"\n",
    "    # Use torch.topk to get the top X values and their indices for each population\n",
    "    top_values, top_indices = torch.topk(scores, k=top_x, dim=1, largest=True, sorted=True)\n",
    "\n",
    "    return top_indices\n"
   ]
  },
  {
   "cell_type": "code",
   "execution_count": 6,
   "metadata": {},
   "outputs": [],
   "source": [
    "def select_top_individuals(test_pop: torch.Tensor, top_index: torch.Tensor) -> torch.Tensor:\n",
    "    \"\"\"\n",
    "    Select the top individuals from each population based on the top indices.\n",
    "\n",
    "    Parameters:\n",
    "    test_pop (torch.Tensor): A tensor of shape (num_populations, num_individuals, num_markers, ploidy)\n",
    "                             representing the populations.\n",
    "    top_index (torch.Tensor): A tensor of shape (num_populations, top_x) containing the indices of the top\n",
    "                              individuals in each population.\n",
    "\n",
    "    Returns:\n",
    "    torch.Tensor: A tensor of shape (num_populations, top_x, num_markers, ploidy) containing the top individuals.\n",
    "    \"\"\"\n",
    "    # Get the number of populations and the number of top individuals to select\n",
    "    num_populations, top_x = top_index.shape\n",
    "    \n",
    "    # Create a tensor of population indices that correspond to each individual\n",
    "    population_indices = torch.arange(num_populations).view(-1, 1).expand(-1, top_x).reshape(-1)\n",
    "    \n",
    "    # Expand top_index to match the total number of individuals selected\n",
    "    expanded_top_index = top_index.reshape(-1)\n",
    "    \n",
    "    # Select the top individuals across the second dimension (individuals)\n",
    "    selected_individuals = torch.index_select(test_pop.view(-1, *test_pop.shape[2:]), 0, population_indices * test_pop.shape[1] + expanded_top_index)\n",
    "    \n",
    "    # Reshape the result to the desired output shape\n",
    "    selected_individuals = selected_individuals.view(num_populations, top_x, *test_pop.shape[2:])\n",
    "    \n",
    "    return selected_individuals\n"
   ]
  },
  {
   "cell_type": "code",
   "execution_count": 16,
   "metadata": {},
   "outputs": [],
   "source": [
    "import torch\n",
    "\n",
    "def generate_offspring(selected_parents: torch.Tensor, total_offspring: int) -> torch.Tensor:\n",
    "    \"\"\"\n",
    "    Generate offspring tensors by randomly inheriting one ploidy value from each of the parents.\n",
    "\n",
    "    Parameters:\n",
    "    selected_parents (torch.Tensor): A tensor of shape (population, individual, marker, ploidy)\n",
    "                                     representing the selected parents.\n",
    "    total_offspring (int): The total number of offspring to generate for each population.\n",
    "\n",
    "    Returns:\n",
    "    torch.Tensor: A tensor representing the offspring with shape (population, total_offspring, marker, ploidy).\n",
    "    \"\"\"\n",
    "    num_populations, num_individuals, num_markers, ploidy = selected_parents.shape\n",
    "    \n",
    "    # Initialize an empty tensor for the offspring with the correct shape\n",
    "    offspring = torch.empty((num_populations, total_offspring, num_markers, ploidy), dtype=torch.int8)\n",
    "    \n",
    "    # Iterate over each population\n",
    "    for pop in range(num_populations):\n",
    "        # Generate offspring for the population\n",
    "        for off in range(total_offspring):\n",
    "            # Randomly select two parents for each offspring\n",
    "            parents_idx = torch.randint(0, num_individuals, (2,))\n",
    "            for marker in range(num_markers):\n",
    "                # Randomly select one ploidy value from each parent for each marker\n",
    "                alleles = torch.stack([\n",
    "                    selected_parents[pop, parents_idx[0], marker, torch.randint(0, ploidy, (1,))],\n",
    "                    selected_parents[pop, parents_idx[1], marker, torch.randint(0, ploidy, (1,))]\n",
    "                ])\n",
    "                offspring[pop, off, marker] = alleles.squeeze()\n",
    "\n",
    "    return offspring\n"
   ]
  },
  {
   "cell_type": "code",
   "execution_count": 8,
   "metadata": {},
   "outputs": [
    {
     "name": "stdout",
     "output_type": "stream",
     "text": [
      "<class 'torch.Tensor'>\n",
      "<class 'pandas.core.frame.DataFrame'>\n",
      "<class 'pandas.core.series.Series'>\n",
      "torch.Size([3, 50, 100, 2])\n",
      "(100,)\n",
      "torch.Size([3, 50])\n"
     ]
    }
   ],
   "source": [
    "# Example test\n",
    "num_populations = 3\n",
    "num_individuals = 50\n",
    "num_markers = 100\n",
    "ploidy = 2\n",
    "\n",
    "test_pop = generate_population(num_populations, num_individuals, num_markers, ploidy)\n",
    "test_map = generate_map(num_markers)\n",
    "test_score = generate_scores(test_pop, test_map)\n",
    "\n",
    "print(type(test_pop)) # torch.tensor\n",
    "print(type(test_map)) # pandas.DataFrame\n",
    "print(type(test_map['Yield'])) # pandas.Series\n",
    "\n",
    "\n",
    "print(test_pop.shape) # torch.Size([3, 50, 100, 2])\n",
    "print(test_map['Yield'].shape) #(100,)\n",
    "print(test_score.shape)"
   ]
  },
  {
   "cell_type": "code",
   "execution_count": 13,
   "metadata": {},
   "outputs": [],
   "source": [
    "top_index = get_top_indices(test_score, 6)\n",
    "selected_parents = select_top_individuals(test_pop, top_index)"
   ]
  },
  {
   "cell_type": "code",
   "execution_count": 17,
   "metadata": {},
   "outputs": [],
   "source": [
    "# Assuming selected_parents is a tensor with the shape (batch, population, individual, marker, ploidy)\n",
    "offspring = generate_offspring(selected_parents,10)"
   ]
  },
  {
   "cell_type": "code",
   "execution_count": 18,
   "metadata": {},
   "outputs": [
    {
     "data": {
      "text/plain": [
       "torch.Size([3, 10, 100, 2])"
      ]
     },
     "execution_count": 18,
     "metadata": {},
     "output_type": "execute_result"
    }
   ],
   "source": [
    "offspring.shape"
   ]
  },
  {
   "cell_type": "code",
   "execution_count": null,
   "metadata": {},
   "outputs": [],
   "source": []
  }
 ],
 "metadata": {
  "kernelspec": {
   "display_name": "agent_env",
   "language": "python",
   "name": "python3"
  },
  "language_info": {
   "codemirror_mode": {
    "name": "ipython",
    "version": 3
   },
   "file_extension": ".py",
   "mimetype": "text/x-python",
   "name": "python",
   "nbconvert_exporter": "python",
   "pygments_lexer": "ipython3",
   "version": "3.8.10"
  }
 },
 "nbformat": 4,
 "nbformat_minor": 2
}
